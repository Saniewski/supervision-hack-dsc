{
 "cells": [
  {
   "cell_type": "code",
   "execution_count": 2,
   "metadata": {
    "collapsed": true
   },
   "outputs": [],
   "source": [
    "import pandas as pd\n",
    "import numpy as np"
   ]
  },
  {
   "cell_type": "code",
   "execution_count": 3,
   "metadata": {
    "collapsed": false
   },
   "outputs": [
    {
     "data": {
      "text/html": [
       "<div>\n",
       "<style scoped>\n",
       "    .dataframe tbody tr th:only-of-type {\n",
       "        vertical-align: middle;\n",
       "    }\n",
       "\n",
       "    .dataframe tbody tr th {\n",
       "        vertical-align: top;\n",
       "    }\n",
       "\n",
       "    .dataframe thead th {\n",
       "        text-align: right;\n",
       "    }\n",
       "</style>\n",
       "<table border=\"1\" class=\"dataframe\">\n",
       "  <thead>\n",
       "    <tr style=\"text-align: right;\">\n",
       "      <th></th>\n",
       "      <th>post_id</th>\n",
       "      <th>text</th>\n",
       "      <th>post_text</th>\n",
       "      <th>shared_text</th>\n",
       "      <th>original_text</th>\n",
       "      <th>time</th>\n",
       "      <th>timestamp</th>\n",
       "      <th>image</th>\n",
       "      <th>image_lowquality</th>\n",
       "      <th>images</th>\n",
       "      <th>...</th>\n",
       "      <th>sharers</th>\n",
       "      <th>image_id</th>\n",
       "      <th>image_ids</th>\n",
       "      <th>was_live</th>\n",
       "      <th>header</th>\n",
       "      <th>video_ids</th>\n",
       "      <th>videos</th>\n",
       "      <th>listing_title</th>\n",
       "      <th>listing_price</th>\n",
       "      <th>listing_location</th>\n",
       "    </tr>\n",
       "  </thead>\n",
       "  <tbody>\n",
       "    <tr>\n",
       "      <th>0</th>\n",
       "      <td>1357999284721525</td>\n",
       "      <td>‼️‼️4.000 - 6.000 zł za spisanie i zamknięcie ...</td>\n",
       "      <td>‼️‼️4.000 - 6.000 zł za spisanie i zamknięcie ...</td>\n",
       "      <td></td>\n",
       "      <td>NaN</td>\n",
       "      <td>1651429010000</td>\n",
       "      <td>2022-05-01 16:16:50</td>\n",
       "      <td>None</td>\n",
       "      <td>None</td>\n",
       "      <td>[]</td>\n",
       "      <td>...</td>\n",
       "      <td>NaN</td>\n",
       "      <td>NaN</td>\n",
       "      <td>[]</td>\n",
       "      <td>False</td>\n",
       "      <td>Sebastian MyLife‎Praca Warszawa (i okolice!)</td>\n",
       "      <td>None</td>\n",
       "      <td>None</td>\n",
       "      <td>None</td>\n",
       "      <td>None</td>\n",
       "      <td>None</td>\n",
       "    </tr>\n",
       "    <tr>\n",
       "      <th>1</th>\n",
       "      <td>1512648315923287</td>\n",
       "      <td>WARSZAWA!\\n\\nPotrzebuję hostessy lub hosta! 🙂\\...</td>\n",
       "      <td>WARSZAWA!\\n\\nPotrzebuję hostessy lub hosta! 🙂\\...</td>\n",
       "      <td></td>\n",
       "      <td>NaN</td>\n",
       "      <td>1669559695000</td>\n",
       "      <td>2022-11-27 13:34:55</td>\n",
       "      <td>None</td>\n",
       "      <td>None</td>\n",
       "      <td>[]</td>\n",
       "      <td>...</td>\n",
       "      <td>NaN</td>\n",
       "      <td>NaN</td>\n",
       "      <td>[]</td>\n",
       "      <td>False</td>\n",
       "      <td>Paulina Lisiecka‎Praca Warszawa (i okolice!)</td>\n",
       "      <td>None</td>\n",
       "      <td>None</td>\n",
       "      <td>None</td>\n",
       "      <td>None</td>\n",
       "      <td>None</td>\n",
       "    </tr>\n",
       "    <tr>\n",
       "      <th>2</th>\n",
       "      <td>1512730425915076</td>\n",
       "      <td>PRACA OD JUTRA\\nZatrudnię pełnoletnie osoby do...</td>\n",
       "      <td>PRACA OD JUTRA\\nZatrudnię pełnoletnie osoby do...</td>\n",
       "      <td></td>\n",
       "      <td>NaN</td>\n",
       "      <td>1669567643000</td>\n",
       "      <td>2022-11-27 15:47:23</td>\n",
       "      <td>None</td>\n",
       "      <td>None</td>\n",
       "      <td>[]</td>\n",
       "      <td>...</td>\n",
       "      <td>NaN</td>\n",
       "      <td>NaN</td>\n",
       "      <td>[]</td>\n",
       "      <td>False</td>\n",
       "      <td>Ewa Konicka‎Praca Warszawa (i okolice!)</td>\n",
       "      <td>None</td>\n",
       "      <td>None</td>\n",
       "      <td>None</td>\n",
       "      <td>None</td>\n",
       "      <td>None</td>\n",
       "    </tr>\n",
       "    <tr>\n",
       "      <th>3</th>\n",
       "      <td>1512510969270355</td>\n",
       "      <td>W związku z dynamicznie rozwijającym się Zespo...</td>\n",
       "      <td>W związku z dynamicznie rozwijającym się Zespo...</td>\n",
       "      <td></td>\n",
       "      <td>NaN</td>\n",
       "      <td>1669545258000</td>\n",
       "      <td>2022-11-27 09:34:18</td>\n",
       "      <td>None</td>\n",
       "      <td>None</td>\n",
       "      <td>[]</td>\n",
       "      <td>...</td>\n",
       "      <td>NaN</td>\n",
       "      <td>NaN</td>\n",
       "      <td>[]</td>\n",
       "      <td>False</td>\n",
       "      <td>Daniel Milczarek‎Praca Warszawa (i okolice!)</td>\n",
       "      <td>None</td>\n",
       "      <td>None</td>\n",
       "      <td>None</td>\n",
       "      <td>None</td>\n",
       "      <td>None</td>\n",
       "    </tr>\n",
       "    <tr>\n",
       "      <th>4</th>\n",
       "      <td>1512608312593954</td>\n",
       "      <td>dzień dobry, szukam pracy przy sprzątaniu mies...</td>\n",
       "      <td>dzień dobry, szukam pracy przy sprzątaniu mies...</td>\n",
       "      <td></td>\n",
       "      <td>NaN</td>\n",
       "      <td>1669555810000</td>\n",
       "      <td>2022-11-27 12:30:10</td>\n",
       "      <td>None</td>\n",
       "      <td>None</td>\n",
       "      <td>[]</td>\n",
       "      <td>...</td>\n",
       "      <td>NaN</td>\n",
       "      <td>NaN</td>\n",
       "      <td>[]</td>\n",
       "      <td>False</td>\n",
       "      <td>Діана Мацько‎Praca Warszawa (i okolice!)</td>\n",
       "      <td>None</td>\n",
       "      <td>None</td>\n",
       "      <td>None</td>\n",
       "      <td>None</td>\n",
       "      <td>None</td>\n",
       "    </tr>\n",
       "  </tbody>\n",
       "</table>\n",
       "<p>5 rows × 56 columns</p>\n",
       "</div>"
      ],
      "text/plain": [
       "            post_id                                               text   \n",
       "0  1357999284721525  ‼️‼️4.000 - 6.000 zł za spisanie i zamknięcie ...  \\\n",
       "1  1512648315923287  WARSZAWA!\\n\\nPotrzebuję hostessy lub hosta! 🙂\\...   \n",
       "2  1512730425915076  PRACA OD JUTRA\\nZatrudnię pełnoletnie osoby do...   \n",
       "3  1512510969270355  W związku z dynamicznie rozwijającym się Zespo...   \n",
       "4  1512608312593954  dzień dobry, szukam pracy przy sprzątaniu mies...   \n",
       "\n",
       "                                           post_text shared_text   \n",
       "0  ‼️‼️4.000 - 6.000 zł za spisanie i zamknięcie ...              \\\n",
       "1  WARSZAWA!\\n\\nPotrzebuję hostessy lub hosta! 🙂\\...               \n",
       "2  PRACA OD JUTRA\\nZatrudnię pełnoletnie osoby do...               \n",
       "3  W związku z dynamicznie rozwijającym się Zespo...               \n",
       "4  dzień dobry, szukam pracy przy sprzątaniu mies...               \n",
       "\n",
       "   original_text           time           timestamp image image_lowquality   \n",
       "0            NaN  1651429010000 2022-05-01 16:16:50  None             None  \\\n",
       "1            NaN  1669559695000 2022-11-27 13:34:55  None             None   \n",
       "2            NaN  1669567643000 2022-11-27 15:47:23  None             None   \n",
       "3            NaN  1669545258000 2022-11-27 09:34:18  None             None   \n",
       "4            NaN  1669555810000 2022-11-27 12:30:10  None             None   \n",
       "\n",
       "  images  ... sharers image_id image_ids was_live   \n",
       "0     []  ...     NaN      NaN        []    False  \\\n",
       "1     []  ...     NaN      NaN        []    False   \n",
       "2     []  ...     NaN      NaN        []    False   \n",
       "3     []  ...     NaN      NaN        []    False   \n",
       "4     []  ...     NaN      NaN        []    False   \n",
       "\n",
       "                                         header  video_ids  videos   \n",
       "0  Sebastian MyLife‎Praca Warszawa (i okolice!)       None    None  \\\n",
       "1  Paulina Lisiecka‎Praca Warszawa (i okolice!)       None    None   \n",
       "2       Ewa Konicka‎Praca Warszawa (i okolice!)       None    None   \n",
       "3  Daniel Milczarek‎Praca Warszawa (i okolice!)       None    None   \n",
       "4      Діана Мацько‎Praca Warszawa (i okolice!)       None    None   \n",
       "\n",
       "   listing_title  listing_price listing_location  \n",
       "0           None           None             None  \n",
       "1           None           None             None  \n",
       "2           None           None             None  \n",
       "3           None           None             None  \n",
       "4           None           None             None  \n",
       "\n",
       "[5 rows x 56 columns]"
      ]
     },
     "execution_count": 3,
     "metadata": {},
     "output_type": "execute_result"
    }
   ],
   "source": [
    "df_fb = pd.read_json('../data/facebook_job_posts.json')\n",
    "df_fb.head()"
   ]
  },
  {
   "cell_type": "code",
   "execution_count": 4,
   "metadata": {
    "collapsed": false
   },
   "outputs": [
    {
     "data": {
      "text/html": [
       "<div>\n",
       "<style scoped>\n",
       "    .dataframe tbody tr th:only-of-type {\n",
       "        vertical-align: middle;\n",
       "    }\n",
       "\n",
       "    .dataframe tbody tr th {\n",
       "        vertical-align: top;\n",
       "    }\n",
       "\n",
       "    .dataframe thead th {\n",
       "        text-align: right;\n",
       "    }\n",
       "</style>\n",
       "<table border=\"1\" class=\"dataframe\">\n",
       "  <thead>\n",
       "    <tr style=\"text-align: right;\">\n",
       "      <th></th>\n",
       "      <th>post_id</th>\n",
       "      <th>text</th>\n",
       "    </tr>\n",
       "  </thead>\n",
       "  <tbody>\n",
       "    <tr>\n",
       "      <th>0</th>\n",
       "      <td>1357999284721525</td>\n",
       "      <td>‼️‼️4.000 - 6.000 zł za spisanie i zamknięcie ...</td>\n",
       "    </tr>\n",
       "    <tr>\n",
       "      <th>1</th>\n",
       "      <td>1512648315923287</td>\n",
       "      <td>WARSZAWA!\\n\\nPotrzebuję hostessy lub hosta! 🙂\\...</td>\n",
       "    </tr>\n",
       "    <tr>\n",
       "      <th>2</th>\n",
       "      <td>1512730425915076</td>\n",
       "      <td>PRACA OD JUTRA\\nZatrudnię pełnoletnie osoby do...</td>\n",
       "    </tr>\n",
       "    <tr>\n",
       "      <th>3</th>\n",
       "      <td>1512510969270355</td>\n",
       "      <td>W związku z dynamicznie rozwijającym się Zespo...</td>\n",
       "    </tr>\n",
       "    <tr>\n",
       "      <th>4</th>\n",
       "      <td>1512608312593954</td>\n",
       "      <td>dzień dobry, szukam pracy przy sprzątaniu mies...</td>\n",
       "    </tr>\n",
       "  </tbody>\n",
       "</table>\n",
       "</div>"
      ],
      "text/plain": [
       "            post_id                                               text\n",
       "0  1357999284721525  ‼️‼️4.000 - 6.000 zł za spisanie i zamknięcie ...\n",
       "1  1512648315923287  WARSZAWA!\\n\\nPotrzebuję hostessy lub hosta! 🙂\\...\n",
       "2  1512730425915076  PRACA OD JUTRA\\nZatrudnię pełnoletnie osoby do...\n",
       "3  1512510969270355  W związku z dynamicznie rozwijającym się Zespo...\n",
       "4  1512608312593954  dzień dobry, szukam pracy przy sprzątaniu mies..."
      ]
     },
     "execution_count": 4,
     "metadata": {},
     "output_type": "execute_result"
    }
   ],
   "source": [
    "df_fb = df_fb[['post_id', 'text']]\n",
    "df_fb.head()"
   ]
  },
  {
   "cell_type": "code",
   "execution_count": 5,
   "metadata": {
    "collapsed": false
   },
   "outputs": [
    {
     "data": {
      "text/plain": [
       "(478, 2)"
      ]
     },
     "execution_count": 5,
     "metadata": {},
     "output_type": "execute_result"
    }
   ],
   "source": [
    "df_fb.shape"
   ]
  },
  {
   "cell_type": "code",
   "execution_count": 6,
   "metadata": {},
   "outputs": [],
   "source": [
    "df_fb['text'] = df_fb['text'].apply(lambda x: x if 'szukam pracy' not in x.lower() else '')\n",
    "df_fb['text'] = df_fb['text'].apply(lambda x: x if 'poszukuje pracy' not in x.lower() else '')\n",
    "df_fb['text'] = df_fb['text'].apply(lambda x: x if 'poszukuję pracy' not in x.lower() else '')\n",
    "df_fb['text'] = df_fb['text'].apply(lambda x: np.nan if x == '' else x)\n",
    "df_fb = df_fb.dropna()"
   ]
  },
  {
   "cell_type": "code",
   "execution_count": 7,
   "metadata": {},
   "outputs": [
    {
     "data": {
      "text/plain": [
       "(430, 2)"
      ]
     },
     "execution_count": 7,
     "metadata": {},
     "output_type": "execute_result"
    }
   ],
   "source": [
    "df_fb.shape"
   ]
  },
  {
   "cell_type": "code",
   "execution_count": 8,
   "metadata": {},
   "outputs": [],
   "source": [
    "df_fb.rename(columns={'post_id': 'id'}, inplace=True)"
   ]
  },
  {
   "cell_type": "code",
   "execution_count": 9,
   "metadata": {
    "collapsed": false
   },
   "outputs": [],
   "source": [
    "df_fb.to_csv('../data/fb.csv', index=False)\n",
    "with open('../data/fb.json', 'w', encoding='utf-8') as f:\n",
    "  df_fb.to_json(f, force_ascii=False, orient='records')"
   ]
  }
 ],
 "metadata": {
  "kernelspec": {
   "display_name": "Python 3",
   "language": "python",
   "name": "python3"
  },
  "language_info": {
   "codemirror_mode": {
    "name": "ipython",
    "version": 3
   },
   "file_extension": ".py",
   "mimetype": "text/x-python",
   "name": "python",
   "nbconvert_exporter": "python",
   "pygments_lexer": "ipython3",
   "version": "3.9.6"
  }
 },
 "nbformat": 4,
 "nbformat_minor": 0
}
