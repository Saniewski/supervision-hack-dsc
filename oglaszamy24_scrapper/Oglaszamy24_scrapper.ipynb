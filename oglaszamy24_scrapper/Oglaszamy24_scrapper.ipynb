{
 "cells": [
  {
   "cell_type": "code",
   "execution_count": 1,
   "metadata": {},
   "outputs": [
    {
     "name": "stderr",
     "output_type": "stream",
     "text": [
      "100%|██████████| 81/81 [00:17<00:00,  4.73it/s]\n",
      "100%|██████████| 1578/1578 [00:00<00:00, 435893.82it/s]\n",
      "100%|██████████| 1578/1578 [06:11<00:00,  4.25it/s]\n"
     ]
    }
   ],
   "source": [
    "### Libraries\n",
    "from selenium import webdriver\n",
    "from lxml import html\n",
    "from bs4 import BeautifulSoup\n",
    "import requests\n",
    "from tqdm import tqdm\n",
    "import pandas as pd\n",
    "\n",
    "### URL adress\n",
    "url = 'http://www.oglaszamy24.pl/ogloszenia/praca/oferty-pracy/?std=1&results='\n",
    "\n",
    "### Links list\n",
    "links_list = []\n",
    "links_list_final = []\n",
    "\n",
    "### Loop through the page number\n",
    "for i in tqdm(range(81)):\n",
    "    \n",
    "    ### Download html code from site\n",
    "    response = requests.get(url+str(i+1))\n",
    "    soup = BeautifulSoup(response.content, 'html.parser')\n",
    "\n",
    "    ### Founding evry single href with calass 'o_title'\n",
    "    links = soup.find_all('a', class_='o_title')\n",
    "    links_list = links_list + links\n",
    "\n",
    "### Creating final clear list of links\n",
    "for i in tqdm(links_list):\n",
    "    links_list_final.append(i['href'])\n",
    "\n",
    "### List to columns df     \n",
    "titles = []\n",
    "descriptions = []\n",
    "\n",
    "### Jobs Scraper\n",
    "for link in tqdm(links_list_final):\n",
    "\n",
    "    ### Downloading web source\n",
    "    response = requests.get(link)\n",
    "    soup = BeautifulSoup(response.text, \"html.parser\")\n",
    "\n",
    "    ### Downloading title\n",
    "    title_element = soup.find(\"h1\", class_=\"std_h1\")\n",
    "    title = title_element.text.strip() if title_element else \"\"\n",
    "\n",
    "    ### Downloading descriptions\n",
    "    description_element = soup.find(\"div\", id=\"adv_desc\")\n",
    "    description = description_element.text.strip() if description_element else \"\"\n",
    "\n",
    "    ### Adding title and description to lists\n",
    "    titles.append(title)\n",
    "    descriptions.append(description)\n",
    "\n",
    "\n",
    "### Creating dataframe\n",
    "df = pd.DataFrame({\"id\": links_list_final, \"text\": descriptions})\n",
    "\n",
    "### Data Export\n",
    "df.to_csv('../data/oglaszamy24.csv', index=False)\n",
    "with open('../data/oglaszamy24.json', 'w', encoding='utf-8') as f:\n",
    "  df.to_json(f, force_ascii=False, orient='records')\n"
   ]
  }
 ],
 "metadata": {
  "kernelspec": {
   "display_name": "Python 3",
   "language": "python",
   "name": "python3"
  },
  "language_info": {
   "codemirror_mode": {
    "name": "ipython",
    "version": 3
   },
   "file_extension": ".py",
   "mimetype": "text/x-python",
   "name": "python",
   "nbconvert_exporter": "python",
   "pygments_lexer": "ipython3",
   "version": "3.10.6"
  },
  "orig_nbformat": 4
 },
 "nbformat": 4,
 "nbformat_minor": 2
}
