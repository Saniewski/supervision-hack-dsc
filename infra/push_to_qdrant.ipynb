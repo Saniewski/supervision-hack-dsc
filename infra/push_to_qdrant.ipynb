{
 "cells": [
  {
   "cell_type": "code",
   "execution_count": 2,
   "metadata": {},
   "outputs": [],
   "source": [
    "import pandas as pd\n",
    "import numpy as np\n",
    "from qdrant_client import QdrantClient\n",
    "from qdrant_client.http.models import PointStruct, VectorParams, Distance"
   ]
  },
  {
   "cell_type": "code",
   "execution_count": 3,
   "metadata": {},
   "outputs": [
    {
     "data": {
      "text/plain": [
       "True"
      ]
     },
     "execution_count": 3,
     "metadata": {},
     "output_type": "execute_result"
    }
   ],
   "source": [
    "client = QdrantClient(\"http://localhost:6333\")\n",
    "\n",
    "client.recreate_collection(\n",
    "    collection_name=\"job_listings\",\n",
    "    vectors_config=VectorParams(\n",
    "        size=768,\n",
    "        distance=Distance.COSINE\n",
    "    )\n",
    ")"
   ]
  },
  {
   "cell_type": "code",
   "execution_count": 4,
   "metadata": {},
   "outputs": [],
   "source": [
    "df = pd.read_json('../data/all_data_polbert_embeddings.json')"
   ]
  },
  {
   "cell_type": "code",
   "execution_count": 5,
   "metadata": {},
   "outputs": [
    {
     "data": {
      "text/html": [
       "<div>\n",
       "<style scoped>\n",
       "    .dataframe tbody tr th:only-of-type {\n",
       "        vertical-align: middle;\n",
       "    }\n",
       "\n",
       "    .dataframe tbody tr th {\n",
       "        vertical-align: top;\n",
       "    }\n",
       "\n",
       "    .dataframe thead th {\n",
       "        text-align: right;\n",
       "    }\n",
       "</style>\n",
       "<table border=\"1\" class=\"dataframe\">\n",
       "  <thead>\n",
       "    <tr style=\"text-align: right;\">\n",
       "      <th></th>\n",
       "      <th>text</th>\n",
       "      <th>label</th>\n",
       "      <th>embeddings</th>\n",
       "    </tr>\n",
       "  </thead>\n",
       "  <tbody>\n",
       "    <tr>\n",
       "      <th>0</th>\n",
       "      <td>4 000 6 000 zł za spisanie i zamknięcie 1 umo...</td>\n",
       "      <td>NaN</td>\n",
       "      <td>[-0.7777841091000001, -0.2634485662, 0.6810794...</td>\n",
       "    </tr>\n",
       "    <tr>\n",
       "      <th>1</th>\n",
       "      <td>warszawa potrzebuję hostessy lub hosta 30 11 0...</td>\n",
       "      <td>NaN</td>\n",
       "      <td>[-0.8700618744, -0.4192576408, 0.8261056542, 2...</td>\n",
       "    </tr>\n",
       "    <tr>\n",
       "      <th>2</th>\n",
       "      <td>praca od jutra zatrudnię pełnoletnie osoby do ...</td>\n",
       "      <td>NaN</td>\n",
       "      <td>[-1.3931413889, -0.31156659130000003, 0.704142...</td>\n",
       "    </tr>\n",
       "    <tr>\n",
       "      <th>3</th>\n",
       "      <td>w związku z dynamicznie rozwijającym się zespo...</td>\n",
       "      <td>NaN</td>\n",
       "      <td>[-0.7349925041, -0.980086863, 0.6741656065, 0....</td>\n",
       "    </tr>\n",
       "    <tr>\n",
       "      <th>4</th>\n",
       "      <td>przy komputerze umowa wynagrodzenie co miesiąc...</td>\n",
       "      <td>NaN</td>\n",
       "      <td>[-0.6780881882, -0.7579360604000001, 0.4117349...</td>\n",
       "    </tr>\n",
       "  </tbody>\n",
       "</table>\n",
       "</div>"
      ],
      "text/plain": [
       "                                                text  label   \n",
       "0   4 000 6 000 zł za spisanie i zamknięcie 1 umo...    NaN  \\\n",
       "1  warszawa potrzebuję hostessy lub hosta 30 11 0...    NaN   \n",
       "2  praca od jutra zatrudnię pełnoletnie osoby do ...    NaN   \n",
       "3  w związku z dynamicznie rozwijającym się zespo...    NaN   \n",
       "4  przy komputerze umowa wynagrodzenie co miesiąc...    NaN   \n",
       "\n",
       "                                          embeddings  \n",
       "0  [-0.7777841091000001, -0.2634485662, 0.6810794...  \n",
       "1  [-0.8700618744, -0.4192576408, 0.8261056542, 2...  \n",
       "2  [-1.3931413889, -0.31156659130000003, 0.704142...  \n",
       "3  [-0.7349925041, -0.980086863, 0.6741656065, 0....  \n",
       "4  [-0.6780881882, -0.7579360604000001, 0.4117349...  "
      ]
     },
     "execution_count": 5,
     "metadata": {},
     "output_type": "execute_result"
    }
   ],
   "source": [
    "df.head()"
   ]
  },
  {
   "cell_type": "code",
   "execution_count": null,
   "metadata": {},
   "outputs": [],
   "source": []
  }
 ],
 "metadata": {
  "kernelspec": {
   "display_name": "venv",
   "language": "python",
   "name": "python3"
  },
  "language_info": {
   "codemirror_mode": {
    "name": "ipython",
    "version": 3
   },
   "file_extension": ".py",
   "mimetype": "text/x-python",
   "name": "python",
   "nbconvert_exporter": "python",
   "pygments_lexer": "ipython3",
   "version": "3.9.6"
  },
  "orig_nbformat": 4
 },
 "nbformat": 4,
 "nbformat_minor": 2
}
