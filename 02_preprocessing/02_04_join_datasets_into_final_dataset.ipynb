{
 "cells": [
  {
   "cell_type": "code",
   "execution_count": 17,
   "metadata": {},
   "outputs": [],
   "source": [
    "import pandas as pd\n",
    "import numpy as np\n",
    "import re\n",
    "import uuid"
   ]
  },
  {
   "cell_type": "code",
   "execution_count": 18,
   "metadata": {},
   "outputs": [],
   "source": [
    "fb_dataset_path = '../data/fb.json'\n",
    "olx_dataset_path = '../data/olx_remote_work.json'\n",
    "o24_dataset_path = '../data/oglaszamy24.json'\n",
    "jh_dataset_path = '../data/jobhunter_cleaned.json'\n",
    "jhg_dataset_path = '../data/jobhunter_generated.csv'"
   ]
  },
  {
   "cell_type": "code",
   "execution_count": 19,
   "metadata": {},
   "outputs": [],
   "source": [
    "df_fb = pd.read_json(fb_dataset_path)\n",
    "df_olx = pd.read_json(olx_dataset_path)\n",
    "df_o24 = pd.read_json(o24_dataset_path)\n",
    "df_jh = pd.read_json(jh_dataset_path)\n",
    "df_jhg = pd.read_csv(jhg_dataset_path).drop(columns=['cluster'])"
   ]
  },
  {
   "cell_type": "code",
   "execution_count": 20,
   "metadata": {},
   "outputs": [
    {
     "data": {
      "text/html": [
       "<div>\n",
       "<style scoped>\n",
       "    .dataframe tbody tr th:only-of-type {\n",
       "        vertical-align: middle;\n",
       "    }\n",
       "\n",
       "    .dataframe tbody tr th {\n",
       "        vertical-align: top;\n",
       "    }\n",
       "\n",
       "    .dataframe thead th {\n",
       "        text-align: right;\n",
       "    }\n",
       "</style>\n",
       "<table border=\"1\" class=\"dataframe\">\n",
       "  <thead>\n",
       "    <tr style=\"text-align: right;\">\n",
       "      <th></th>\n",
       "      <th>id</th>\n",
       "      <th>text</th>\n",
       "    </tr>\n",
       "  </thead>\n",
       "  <tbody>\n",
       "    <tr>\n",
       "      <th>0</th>\n",
       "      <td>1357999284721525</td>\n",
       "      <td>‼️‼️4.000 - 6.000 zł za spisanie i zamknięcie ...</td>\n",
       "    </tr>\n",
       "    <tr>\n",
       "      <th>1</th>\n",
       "      <td>1512648315923287</td>\n",
       "      <td>WARSZAWA!\\n\\nPotrzebuję hostessy lub hosta! 🙂\\...</td>\n",
       "    </tr>\n",
       "    <tr>\n",
       "      <th>2</th>\n",
       "      <td>1512730425915076</td>\n",
       "      <td>PRACA OD JUTRA\\nZatrudnię pełnoletnie osoby do...</td>\n",
       "    </tr>\n",
       "    <tr>\n",
       "      <th>3</th>\n",
       "      <td>1512510969270355</td>\n",
       "      <td>W związku z dynamicznie rozwijającym się Zespo...</td>\n",
       "    </tr>\n",
       "    <tr>\n",
       "      <th>4</th>\n",
       "      <td>1505264493328336</td>\n",
       "      <td>Przy komputerze\\nUmowa, wynagrodzenie co miesi...</td>\n",
       "    </tr>\n",
       "  </tbody>\n",
       "</table>\n",
       "</div>"
      ],
      "text/plain": [
       "                 id                                               text\n",
       "0  1357999284721525  ‼️‼️4.000 - 6.000 zł za spisanie i zamknięcie ...\n",
       "1  1512648315923287  WARSZAWA!\\n\\nPotrzebuję hostessy lub hosta! 🙂\\...\n",
       "2  1512730425915076  PRACA OD JUTRA\\nZatrudnię pełnoletnie osoby do...\n",
       "3  1512510969270355  W związku z dynamicznie rozwijającym się Zespo...\n",
       "4  1505264493328336  Przy komputerze\\nUmowa, wynagrodzenie co miesi..."
      ]
     },
     "execution_count": 20,
     "metadata": {},
     "output_type": "execute_result"
    }
   ],
   "source": [
    "df_fb.head()"
   ]
  },
  {
   "cell_type": "code",
   "execution_count": 21,
   "metadata": {},
   "outputs": [],
   "source": [
    "df_fb['id'] = df_fb['id'].astype(str)"
   ]
  },
  {
   "cell_type": "code",
   "execution_count": 22,
   "metadata": {},
   "outputs": [
    {
     "data": {
      "text/html": [
       "<div>\n",
       "<style scoped>\n",
       "    .dataframe tbody tr th:only-of-type {\n",
       "        vertical-align: middle;\n",
       "    }\n",
       "\n",
       "    .dataframe tbody tr th {\n",
       "        vertical-align: top;\n",
       "    }\n",
       "\n",
       "    .dataframe thead th {\n",
       "        text-align: right;\n",
       "    }\n",
       "</style>\n",
       "<table border=\"1\" class=\"dataframe\">\n",
       "  <thead>\n",
       "    <tr style=\"text-align: right;\">\n",
       "      <th></th>\n",
       "      <th>id</th>\n",
       "      <th>text</th>\n",
       "    </tr>\n",
       "  </thead>\n",
       "  <tbody>\n",
       "    <tr>\n",
       "      <th>0</th>\n",
       "      <td>http://www.olx.pl/oferta/praca/praca-zdalna-40...</td>\n",
       "      <td>Nie, to nie pomyłka! Nie musisz dalej szukać, ...</td>\n",
       "    </tr>\n",
       "    <tr>\n",
       "      <th>1</th>\n",
       "      <td>http://www.olx.pl/oferta/praca/praca-w-domu-dl...</td>\n",
       "      <td>W związku z prężnie rozwijającym się projektem...</td>\n",
       "    </tr>\n",
       "    <tr>\n",
       "      <th>2</th>\n",
       "      <td>http://www.olx.pl/oferta/praca/ankieter-zdalny...</td>\n",
       "      <td>Poszukujemy osoby do pracy zdalnej na stanowis...</td>\n",
       "    </tr>\n",
       "    <tr>\n",
       "      <th>3</th>\n",
       "      <td>http://www.olx.pl/oferta/praca/praca-handlowie...</td>\n",
       "      <td>Wynagrodzenie: 5-7 tys. zł.Umowa o pracęGodz. ...</td>\n",
       "    </tr>\n",
       "    <tr>\n",
       "      <th>4</th>\n",
       "      <td>http://www.olx.pl/oferta/praca/prowadzacy-kolk...</td>\n",
       "      <td>Jesteś studentem kierunków informatycznych lub...</td>\n",
       "    </tr>\n",
       "  </tbody>\n",
       "</table>\n",
       "</div>"
      ],
      "text/plain": [
       "                                                  id   \n",
       "0  http://www.olx.pl/oferta/praca/praca-zdalna-40...  \\\n",
       "1  http://www.olx.pl/oferta/praca/praca-w-domu-dl...   \n",
       "2  http://www.olx.pl/oferta/praca/ankieter-zdalny...   \n",
       "3  http://www.olx.pl/oferta/praca/praca-handlowie...   \n",
       "4  http://www.olx.pl/oferta/praca/prowadzacy-kolk...   \n",
       "\n",
       "                                                text  \n",
       "0  Nie, to nie pomyłka! Nie musisz dalej szukać, ...  \n",
       "1  W związku z prężnie rozwijającym się projektem...  \n",
       "2  Poszukujemy osoby do pracy zdalnej na stanowis...  \n",
       "3  Wynagrodzenie: 5-7 tys. zł.Umowa o pracęGodz. ...  \n",
       "4  Jesteś studentem kierunków informatycznych lub...  "
      ]
     },
     "execution_count": 22,
     "metadata": {},
     "output_type": "execute_result"
    }
   ],
   "source": [
    "df_olx.head()"
   ]
  },
  {
   "cell_type": "code",
   "execution_count": 23,
   "metadata": {},
   "outputs": [
    {
     "data": {
      "text/html": [
       "<div>\n",
       "<style scoped>\n",
       "    .dataframe tbody tr th:only-of-type {\n",
       "        vertical-align: middle;\n",
       "    }\n",
       "\n",
       "    .dataframe tbody tr th {\n",
       "        vertical-align: top;\n",
       "    }\n",
       "\n",
       "    .dataframe thead th {\n",
       "        text-align: right;\n",
       "    }\n",
       "</style>\n",
       "<table border=\"1\" class=\"dataframe\">\n",
       "  <thead>\n",
       "    <tr style=\"text-align: right;\">\n",
       "      <th></th>\n",
       "      <th>id</th>\n",
       "      <th>text</th>\n",
       "    </tr>\n",
       "  </thead>\n",
       "  <tbody>\n",
       "    <tr>\n",
       "      <th>0</th>\n",
       "      <td>http://krakow.oglaszamy24.pl/ogloszenie/154952...</td>\n",
       "      <td>Witam, tak jak w tytule poszukuję kobiete do s...</td>\n",
       "    </tr>\n",
       "    <tr>\n",
       "      <th>1</th>\n",
       "      <td>http://opole.oglaszamy24.pl/ogloszenie/1885440...</td>\n",
       "      <td>Chcesz zbudować, odnowić, przywrócić lub po pr...</td>\n",
       "    </tr>\n",
       "    <tr>\n",
       "      <th>2</th>\n",
       "      <td>http://warszawa.oglaszamy24.pl/ogloszenie/1017...</td>\n",
       "      <td>Medycyna pracy od ręki ,badania wysokościowe,\\...</td>\n",
       "    </tr>\n",
       "    <tr>\n",
       "      <th>3</th>\n",
       "      <td>http://lodz.oglaszamy24.pl/ogloszenie/49325871...</td>\n",
       "      <td>Medycyna pracy od ręki ,badania wysokościowe,\\...</td>\n",
       "    </tr>\n",
       "    <tr>\n",
       "      <th>4</th>\n",
       "      <td>http://katowice.oglaszamy24.pl/ogloszenie/1330...</td>\n",
       "      <td>Medycyna pracy od ręki ,badania wysokościowe,\\...</td>\n",
       "    </tr>\n",
       "  </tbody>\n",
       "</table>\n",
       "</div>"
      ],
      "text/plain": [
       "                                                  id   \n",
       "0  http://krakow.oglaszamy24.pl/ogloszenie/154952...  \\\n",
       "1  http://opole.oglaszamy24.pl/ogloszenie/1885440...   \n",
       "2  http://warszawa.oglaszamy24.pl/ogloszenie/1017...   \n",
       "3  http://lodz.oglaszamy24.pl/ogloszenie/49325871...   \n",
       "4  http://katowice.oglaszamy24.pl/ogloszenie/1330...   \n",
       "\n",
       "                                                text  \n",
       "0  Witam, tak jak w tytule poszukuję kobiete do s...  \n",
       "1  Chcesz zbudować, odnowić, przywrócić lub po pr...  \n",
       "2  Medycyna pracy od ręki ,badania wysokościowe,\\...  \n",
       "3  Medycyna pracy od ręki ,badania wysokościowe,\\...  \n",
       "4  Medycyna pracy od ręki ,badania wysokościowe,\\...  "
      ]
     },
     "execution_count": 23,
     "metadata": {},
     "output_type": "execute_result"
    }
   ],
   "source": [
    "df_o24.head()"
   ]
  },
  {
   "cell_type": "code",
   "execution_count": 24,
   "metadata": {},
   "outputs": [
    {
     "data": {
      "text/html": [
       "<div>\n",
       "<style scoped>\n",
       "    .dataframe tbody tr th:only-of-type {\n",
       "        vertical-align: middle;\n",
       "    }\n",
       "\n",
       "    .dataframe tbody tr th {\n",
       "        vertical-align: top;\n",
       "    }\n",
       "\n",
       "    .dataframe thead th {\n",
       "        text-align: right;\n",
       "    }\n",
       "</style>\n",
       "<table border=\"1\" class=\"dataframe\">\n",
       "  <thead>\n",
       "    <tr style=\"text-align: right;\">\n",
       "      <th></th>\n",
       "      <th>text</th>\n",
       "      <th>label</th>\n",
       "    </tr>\n",
       "  </thead>\n",
       "  <tbody>\n",
       "    <tr>\n",
       "      <th>0</th>\n",
       "      <td>Poszukujemy osoby do obsługi klienta, która bę...</td>\n",
       "      <td>0</td>\n",
       "    </tr>\n",
       "    <tr>\n",
       "      <th>1</th>\n",
       "      <td>Poszukujemy Specjalisty ds. Obsługi Klienta, k...</td>\n",
       "      <td>0</td>\n",
       "    </tr>\n",
       "    <tr>\n",
       "      <th>2</th>\n",
       "      <td>Stanowisko: Specjalista ds. Obsługi Klienta  -...</td>\n",
       "      <td>0</td>\n",
       "    </tr>\n",
       "    <tr>\n",
       "      <th>3</th>\n",
       "      <td>Stanowisko: Specjalista ds. Obsługi Klienta  -...</td>\n",
       "      <td>0</td>\n",
       "    </tr>\n",
       "    <tr>\n",
       "      <th>4</th>\n",
       "      <td>Stanowisko: Specjalista ds. Obsługi Klienta  -...</td>\n",
       "      <td>0</td>\n",
       "    </tr>\n",
       "  </tbody>\n",
       "</table>\n",
       "</div>"
      ],
      "text/plain": [
       "                                                text  label\n",
       "0  Poszukujemy osoby do obsługi klienta, która bę...      0\n",
       "1  Poszukujemy Specjalisty ds. Obsługi Klienta, k...      0\n",
       "2  Stanowisko: Specjalista ds. Obsługi Klienta  -...      0\n",
       "3  Stanowisko: Specjalista ds. Obsługi Klienta  -...      0\n",
       "4  Stanowisko: Specjalista ds. Obsługi Klienta  -...      0"
      ]
     },
     "execution_count": 24,
     "metadata": {},
     "output_type": "execute_result"
    }
   ],
   "source": [
    "df_jh.head()"
   ]
  },
  {
   "cell_type": "code",
   "execution_count": 25,
   "metadata": {},
   "outputs": [],
   "source": [
    "uuids = [str(uuid.uuid4()) for _ in range(len(df_jh))]\n",
    "df_jh['id'] = uuids"
   ]
  },
  {
   "cell_type": "code",
   "execution_count": 26,
   "metadata": {},
   "outputs": [
    {
     "data": {
      "text/html": [
       "<div>\n",
       "<style scoped>\n",
       "    .dataframe tbody tr th:only-of-type {\n",
       "        vertical-align: middle;\n",
       "    }\n",
       "\n",
       "    .dataframe tbody tr th {\n",
       "        vertical-align: top;\n",
       "    }\n",
       "\n",
       "    .dataframe thead th {\n",
       "        text-align: right;\n",
       "    }\n",
       "</style>\n",
       "<table border=\"1\" class=\"dataframe\">\n",
       "  <thead>\n",
       "    <tr style=\"text-align: right;\">\n",
       "      <th></th>\n",
       "      <th>text</th>\n",
       "      <th>label</th>\n",
       "    </tr>\n",
       "  </thead>\n",
       "  <tbody>\n",
       "    <tr>\n",
       "      <th>0</th>\n",
       "      <td>Specjalista ds. Obsługi Klienta i Sprzedaży Pr...</td>\n",
       "      <td>1</td>\n",
       "    </tr>\n",
       "    <tr>\n",
       "      <th>1</th>\n",
       "      <td>Samodzielna Księgowa  Twój zakres obowiązków: ...</td>\n",
       "      <td>1</td>\n",
       "    </tr>\n",
       "    <tr>\n",
       "      <th>2</th>\n",
       "      <td>Specjalista ds. Obsługi Klienta  Twój zakres o...</td>\n",
       "      <td>1</td>\n",
       "    </tr>\n",
       "    <tr>\n",
       "      <th>3</th>\n",
       "      <td>Asystent ds. Marketingu   Twój zakres obowiązk...</td>\n",
       "      <td>1</td>\n",
       "    </tr>\n",
       "    <tr>\n",
       "      <th>4</th>\n",
       "      <td>Specjalista ds. Sprzedaży  Twój zakres obowiąz...</td>\n",
       "      <td>1</td>\n",
       "    </tr>\n",
       "  </tbody>\n",
       "</table>\n",
       "</div>"
      ],
      "text/plain": [
       "                                                text  label\n",
       "0  Specjalista ds. Obsługi Klienta i Sprzedaży Pr...      1\n",
       "1  Samodzielna Księgowa  Twój zakres obowiązków: ...      1\n",
       "2  Specjalista ds. Obsługi Klienta  Twój zakres o...      1\n",
       "3  Asystent ds. Marketingu   Twój zakres obowiązk...      1\n",
       "4  Specjalista ds. Sprzedaży  Twój zakres obowiąz...      1"
      ]
     },
     "execution_count": 26,
     "metadata": {},
     "output_type": "execute_result"
    }
   ],
   "source": [
    "df_jhg.head()"
   ]
  },
  {
   "cell_type": "code",
   "execution_count": 27,
   "metadata": {},
   "outputs": [],
   "source": [
    "uuids = [str(uuid.uuid4()) for _ in range(len(df_jhg))]\n",
    "df_jhg['id'] = uuids"
   ]
  },
  {
   "cell_type": "code",
   "execution_count": 29,
   "metadata": {},
   "outputs": [],
   "source": [
    "df_fb['label'] = np.nan\n",
    "df_olx['label'] = np.nan\n",
    "df_o24['label'] = np.nan"
   ]
  },
  {
   "cell_type": "code",
   "execution_count": 30,
   "metadata": {},
   "outputs": [
    {
     "data": {
      "text/html": [
       "<div>\n",
       "<style scoped>\n",
       "    .dataframe tbody tr th:only-of-type {\n",
       "        vertical-align: middle;\n",
       "    }\n",
       "\n",
       "    .dataframe tbody tr th {\n",
       "        vertical-align: top;\n",
       "    }\n",
       "\n",
       "    .dataframe thead th {\n",
       "        text-align: right;\n",
       "    }\n",
       "</style>\n",
       "<table border=\"1\" class=\"dataframe\">\n",
       "  <thead>\n",
       "    <tr style=\"text-align: right;\">\n",
       "      <th></th>\n",
       "      <th>id</th>\n",
       "      <th>text</th>\n",
       "      <th>label</th>\n",
       "    </tr>\n",
       "  </thead>\n",
       "  <tbody>\n",
       "    <tr>\n",
       "      <th>0</th>\n",
       "      <td>1357999284721525</td>\n",
       "      <td>‼️‼️4.000 - 6.000 zł za spisanie i zamknięcie ...</td>\n",
       "      <td>NaN</td>\n",
       "    </tr>\n",
       "    <tr>\n",
       "      <th>1</th>\n",
       "      <td>1512648315923287</td>\n",
       "      <td>WARSZAWA!\\n\\nPotrzebuję hostessy lub hosta! 🙂\\...</td>\n",
       "      <td>NaN</td>\n",
       "    </tr>\n",
       "    <tr>\n",
       "      <th>2</th>\n",
       "      <td>1512730425915076</td>\n",
       "      <td>PRACA OD JUTRA\\nZatrudnię pełnoletnie osoby do...</td>\n",
       "      <td>NaN</td>\n",
       "    </tr>\n",
       "    <tr>\n",
       "      <th>3</th>\n",
       "      <td>1512510969270355</td>\n",
       "      <td>W związku z dynamicznie rozwijającym się Zespo...</td>\n",
       "      <td>NaN</td>\n",
       "    </tr>\n",
       "    <tr>\n",
       "      <th>4</th>\n",
       "      <td>1505264493328336</td>\n",
       "      <td>Przy komputerze\\nUmowa, wynagrodzenie co miesi...</td>\n",
       "      <td>NaN</td>\n",
       "    </tr>\n",
       "  </tbody>\n",
       "</table>\n",
       "</div>"
      ],
      "text/plain": [
       "                 id                                               text  label\n",
       "0  1357999284721525  ‼️‼️4.000 - 6.000 zł za spisanie i zamknięcie ...    NaN\n",
       "1  1512648315923287  WARSZAWA!\\n\\nPotrzebuję hostessy lub hosta! 🙂\\...    NaN\n",
       "2  1512730425915076  PRACA OD JUTRA\\nZatrudnię pełnoletnie osoby do...    NaN\n",
       "3  1512510969270355  W związku z dynamicznie rozwijającym się Zespo...    NaN\n",
       "4  1505264493328336  Przy komputerze\\nUmowa, wynagrodzenie co miesi...    NaN"
      ]
     },
     "execution_count": 30,
     "metadata": {},
     "output_type": "execute_result"
    }
   ],
   "source": [
    "df_fb.head()"
   ]
  },
  {
   "cell_type": "code",
   "execution_count": 31,
   "metadata": {},
   "outputs": [
    {
     "data": {
      "text/html": [
       "<div>\n",
       "<style scoped>\n",
       "    .dataframe tbody tr th:only-of-type {\n",
       "        vertical-align: middle;\n",
       "    }\n",
       "\n",
       "    .dataframe tbody tr th {\n",
       "        vertical-align: top;\n",
       "    }\n",
       "\n",
       "    .dataframe thead th {\n",
       "        text-align: right;\n",
       "    }\n",
       "</style>\n",
       "<table border=\"1\" class=\"dataframe\">\n",
       "  <thead>\n",
       "    <tr style=\"text-align: right;\">\n",
       "      <th></th>\n",
       "      <th>id</th>\n",
       "      <th>text</th>\n",
       "      <th>label</th>\n",
       "    </tr>\n",
       "  </thead>\n",
       "  <tbody>\n",
       "    <tr>\n",
       "      <th>0</th>\n",
       "      <td>http://www.olx.pl/oferta/praca/praca-zdalna-40...</td>\n",
       "      <td>Nie, to nie pomyłka! Nie musisz dalej szukać, ...</td>\n",
       "      <td>NaN</td>\n",
       "    </tr>\n",
       "    <tr>\n",
       "      <th>1</th>\n",
       "      <td>http://www.olx.pl/oferta/praca/praca-w-domu-dl...</td>\n",
       "      <td>W związku z prężnie rozwijającym się projektem...</td>\n",
       "      <td>NaN</td>\n",
       "    </tr>\n",
       "    <tr>\n",
       "      <th>2</th>\n",
       "      <td>http://www.olx.pl/oferta/praca/ankieter-zdalny...</td>\n",
       "      <td>Poszukujemy osoby do pracy zdalnej na stanowis...</td>\n",
       "      <td>NaN</td>\n",
       "    </tr>\n",
       "    <tr>\n",
       "      <th>3</th>\n",
       "      <td>http://www.olx.pl/oferta/praca/praca-handlowie...</td>\n",
       "      <td>Wynagrodzenie: 5-7 tys. zł.Umowa o pracęGodz. ...</td>\n",
       "      <td>NaN</td>\n",
       "    </tr>\n",
       "    <tr>\n",
       "      <th>4</th>\n",
       "      <td>http://www.olx.pl/oferta/praca/prowadzacy-kolk...</td>\n",
       "      <td>Jesteś studentem kierunków informatycznych lub...</td>\n",
       "      <td>NaN</td>\n",
       "    </tr>\n",
       "  </tbody>\n",
       "</table>\n",
       "</div>"
      ],
      "text/plain": [
       "                                                  id   \n",
       "0  http://www.olx.pl/oferta/praca/praca-zdalna-40...  \\\n",
       "1  http://www.olx.pl/oferta/praca/praca-w-domu-dl...   \n",
       "2  http://www.olx.pl/oferta/praca/ankieter-zdalny...   \n",
       "3  http://www.olx.pl/oferta/praca/praca-handlowie...   \n",
       "4  http://www.olx.pl/oferta/praca/prowadzacy-kolk...   \n",
       "\n",
       "                                                text  label  \n",
       "0  Nie, to nie pomyłka! Nie musisz dalej szukać, ...    NaN  \n",
       "1  W związku z prężnie rozwijającym się projektem...    NaN  \n",
       "2  Poszukujemy osoby do pracy zdalnej na stanowis...    NaN  \n",
       "3  Wynagrodzenie: 5-7 tys. zł.Umowa o pracęGodz. ...    NaN  \n",
       "4  Jesteś studentem kierunków informatycznych lub...    NaN  "
      ]
     },
     "execution_count": 31,
     "metadata": {},
     "output_type": "execute_result"
    }
   ],
   "source": [
    "df_olx.head()"
   ]
  },
  {
   "cell_type": "code",
   "execution_count": 32,
   "metadata": {},
   "outputs": [
    {
     "data": {
      "text/html": [
       "<div>\n",
       "<style scoped>\n",
       "    .dataframe tbody tr th:only-of-type {\n",
       "        vertical-align: middle;\n",
       "    }\n",
       "\n",
       "    .dataframe tbody tr th {\n",
       "        vertical-align: top;\n",
       "    }\n",
       "\n",
       "    .dataframe thead th {\n",
       "        text-align: right;\n",
       "    }\n",
       "</style>\n",
       "<table border=\"1\" class=\"dataframe\">\n",
       "  <thead>\n",
       "    <tr style=\"text-align: right;\">\n",
       "      <th></th>\n",
       "      <th>id</th>\n",
       "      <th>text</th>\n",
       "      <th>label</th>\n",
       "    </tr>\n",
       "  </thead>\n",
       "  <tbody>\n",
       "    <tr>\n",
       "      <th>0</th>\n",
       "      <td>http://krakow.oglaszamy24.pl/ogloszenie/154952...</td>\n",
       "      <td>Witam, tak jak w tytule poszukuję kobiete do s...</td>\n",
       "      <td>NaN</td>\n",
       "    </tr>\n",
       "    <tr>\n",
       "      <th>1</th>\n",
       "      <td>http://opole.oglaszamy24.pl/ogloszenie/1885440...</td>\n",
       "      <td>Chcesz zbudować, odnowić, przywrócić lub po pr...</td>\n",
       "      <td>NaN</td>\n",
       "    </tr>\n",
       "    <tr>\n",
       "      <th>2</th>\n",
       "      <td>http://warszawa.oglaszamy24.pl/ogloszenie/1017...</td>\n",
       "      <td>Medycyna pracy od ręki ,badania wysokościowe,\\...</td>\n",
       "      <td>NaN</td>\n",
       "    </tr>\n",
       "    <tr>\n",
       "      <th>3</th>\n",
       "      <td>http://lodz.oglaszamy24.pl/ogloszenie/49325871...</td>\n",
       "      <td>Medycyna pracy od ręki ,badania wysokościowe,\\...</td>\n",
       "      <td>NaN</td>\n",
       "    </tr>\n",
       "    <tr>\n",
       "      <th>4</th>\n",
       "      <td>http://katowice.oglaszamy24.pl/ogloszenie/1330...</td>\n",
       "      <td>Medycyna pracy od ręki ,badania wysokościowe,\\...</td>\n",
       "      <td>NaN</td>\n",
       "    </tr>\n",
       "  </tbody>\n",
       "</table>\n",
       "</div>"
      ],
      "text/plain": [
       "                                                  id   \n",
       "0  http://krakow.oglaszamy24.pl/ogloszenie/154952...  \\\n",
       "1  http://opole.oglaszamy24.pl/ogloszenie/1885440...   \n",
       "2  http://warszawa.oglaszamy24.pl/ogloszenie/1017...   \n",
       "3  http://lodz.oglaszamy24.pl/ogloszenie/49325871...   \n",
       "4  http://katowice.oglaszamy24.pl/ogloszenie/1330...   \n",
       "\n",
       "                                                text  label  \n",
       "0  Witam, tak jak w tytule poszukuję kobiete do s...    NaN  \n",
       "1  Chcesz zbudować, odnowić, przywrócić lub po pr...    NaN  \n",
       "2  Medycyna pracy od ręki ,badania wysokościowe,\\...    NaN  \n",
       "3  Medycyna pracy od ręki ,badania wysokościowe,\\...    NaN  \n",
       "4  Medycyna pracy od ręki ,badania wysokościowe,\\...    NaN  "
      ]
     },
     "execution_count": 32,
     "metadata": {},
     "output_type": "execute_result"
    }
   ],
   "source": [
    "df_o24.head()"
   ]
  },
  {
   "cell_type": "code",
   "execution_count": 33,
   "metadata": {},
   "outputs": [
    {
     "data": {
      "text/html": [
       "<div>\n",
       "<style scoped>\n",
       "    .dataframe tbody tr th:only-of-type {\n",
       "        vertical-align: middle;\n",
       "    }\n",
       "\n",
       "    .dataframe tbody tr th {\n",
       "        vertical-align: top;\n",
       "    }\n",
       "\n",
       "    .dataframe thead th {\n",
       "        text-align: right;\n",
       "    }\n",
       "</style>\n",
       "<table border=\"1\" class=\"dataframe\">\n",
       "  <thead>\n",
       "    <tr style=\"text-align: right;\">\n",
       "      <th></th>\n",
       "      <th>text</th>\n",
       "      <th>label</th>\n",
       "      <th>id</th>\n",
       "    </tr>\n",
       "  </thead>\n",
       "  <tbody>\n",
       "    <tr>\n",
       "      <th>0</th>\n",
       "      <td>Poszukujemy osoby do obsługi klienta, która bę...</td>\n",
       "      <td>0</td>\n",
       "      <td>bfc53318-b3c0-4cea-812c-bb5376c62da3</td>\n",
       "    </tr>\n",
       "    <tr>\n",
       "      <th>1</th>\n",
       "      <td>Poszukujemy Specjalisty ds. Obsługi Klienta, k...</td>\n",
       "      <td>0</td>\n",
       "      <td>cd5f1bb9-3690-421e-bbe9-123443f28ae7</td>\n",
       "    </tr>\n",
       "    <tr>\n",
       "      <th>2</th>\n",
       "      <td>Stanowisko: Specjalista ds. Obsługi Klienta  -...</td>\n",
       "      <td>0</td>\n",
       "      <td>a14d2655-4f4b-4290-8762-769884ffeabf</td>\n",
       "    </tr>\n",
       "    <tr>\n",
       "      <th>3</th>\n",
       "      <td>Stanowisko: Specjalista ds. Obsługi Klienta  -...</td>\n",
       "      <td>0</td>\n",
       "      <td>ce6a2f3b-2171-4b5a-bd0a-b6630ef89694</td>\n",
       "    </tr>\n",
       "    <tr>\n",
       "      <th>4</th>\n",
       "      <td>Stanowisko: Specjalista ds. Obsługi Klienta  -...</td>\n",
       "      <td>0</td>\n",
       "      <td>5629dc29-f624-4fd9-99c2-f77b69fe99d5</td>\n",
       "    </tr>\n",
       "  </tbody>\n",
       "</table>\n",
       "</div>"
      ],
      "text/plain": [
       "                                                text  label   \n",
       "0  Poszukujemy osoby do obsługi klienta, która bę...      0  \\\n",
       "1  Poszukujemy Specjalisty ds. Obsługi Klienta, k...      0   \n",
       "2  Stanowisko: Specjalista ds. Obsługi Klienta  -...      0   \n",
       "3  Stanowisko: Specjalista ds. Obsługi Klienta  -...      0   \n",
       "4  Stanowisko: Specjalista ds. Obsługi Klienta  -...      0   \n",
       "\n",
       "                                     id  \n",
       "0  bfc53318-b3c0-4cea-812c-bb5376c62da3  \n",
       "1  cd5f1bb9-3690-421e-bbe9-123443f28ae7  \n",
       "2  a14d2655-4f4b-4290-8762-769884ffeabf  \n",
       "3  ce6a2f3b-2171-4b5a-bd0a-b6630ef89694  \n",
       "4  5629dc29-f624-4fd9-99c2-f77b69fe99d5  "
      ]
     },
     "execution_count": 33,
     "metadata": {},
     "output_type": "execute_result"
    }
   ],
   "source": [
    "df_jh.head()"
   ]
  },
  {
   "cell_type": "code",
   "execution_count": 34,
   "metadata": {},
   "outputs": [
    {
     "data": {
      "text/html": [
       "<div>\n",
       "<style scoped>\n",
       "    .dataframe tbody tr th:only-of-type {\n",
       "        vertical-align: middle;\n",
       "    }\n",
       "\n",
       "    .dataframe tbody tr th {\n",
       "        vertical-align: top;\n",
       "    }\n",
       "\n",
       "    .dataframe thead th {\n",
       "        text-align: right;\n",
       "    }\n",
       "</style>\n",
       "<table border=\"1\" class=\"dataframe\">\n",
       "  <thead>\n",
       "    <tr style=\"text-align: right;\">\n",
       "      <th></th>\n",
       "      <th>text</th>\n",
       "      <th>label</th>\n",
       "      <th>id</th>\n",
       "    </tr>\n",
       "  </thead>\n",
       "  <tbody>\n",
       "    <tr>\n",
       "      <th>0</th>\n",
       "      <td>Specjalista ds. Obsługi Klienta i Sprzedaży Pr...</td>\n",
       "      <td>1</td>\n",
       "      <td>0f6cb189-8a7b-4633-9dd6-6d8171d08e13</td>\n",
       "    </tr>\n",
       "    <tr>\n",
       "      <th>1</th>\n",
       "      <td>Samodzielna Księgowa  Twój zakres obowiązków: ...</td>\n",
       "      <td>1</td>\n",
       "      <td>d61883d8-c3a8-43ab-a2a1-dd0a67b05e3a</td>\n",
       "    </tr>\n",
       "    <tr>\n",
       "      <th>2</th>\n",
       "      <td>Specjalista ds. Obsługi Klienta  Twój zakres o...</td>\n",
       "      <td>1</td>\n",
       "      <td>7dae3b88-9774-4754-aba6-10308bab5118</td>\n",
       "    </tr>\n",
       "    <tr>\n",
       "      <th>3</th>\n",
       "      <td>Asystent ds. Marketingu   Twój zakres obowiązk...</td>\n",
       "      <td>1</td>\n",
       "      <td>9cf42314-0ef7-453a-a444-184949c9eefb</td>\n",
       "    </tr>\n",
       "    <tr>\n",
       "      <th>4</th>\n",
       "      <td>Specjalista ds. Sprzedaży  Twój zakres obowiąz...</td>\n",
       "      <td>1</td>\n",
       "      <td>89a0c567-a929-4fd0-8156-5b5dd1eea89f</td>\n",
       "    </tr>\n",
       "  </tbody>\n",
       "</table>\n",
       "</div>"
      ],
      "text/plain": [
       "                                                text  label   \n",
       "0  Specjalista ds. Obsługi Klienta i Sprzedaży Pr...      1  \\\n",
       "1  Samodzielna Księgowa  Twój zakres obowiązków: ...      1   \n",
       "2  Specjalista ds. Obsługi Klienta  Twój zakres o...      1   \n",
       "3  Asystent ds. Marketingu   Twój zakres obowiązk...      1   \n",
       "4  Specjalista ds. Sprzedaży  Twój zakres obowiąz...      1   \n",
       "\n",
       "                                     id  \n",
       "0  0f6cb189-8a7b-4633-9dd6-6d8171d08e13  \n",
       "1  d61883d8-c3a8-43ab-a2a1-dd0a67b05e3a  \n",
       "2  7dae3b88-9774-4754-aba6-10308bab5118  \n",
       "3  9cf42314-0ef7-453a-a444-184949c9eefb  \n",
       "4  89a0c567-a929-4fd0-8156-5b5dd1eea89f  "
      ]
     },
     "execution_count": 34,
     "metadata": {},
     "output_type": "execute_result"
    }
   ],
   "source": [
    "df_jhg.head()"
   ]
  },
  {
   "cell_type": "code",
   "execution_count": 35,
   "metadata": {},
   "outputs": [
    {
     "data": {
      "text/html": [
       "<div>\n",
       "<style scoped>\n",
       "    .dataframe tbody tr th:only-of-type {\n",
       "        vertical-align: middle;\n",
       "    }\n",
       "\n",
       "    .dataframe tbody tr th {\n",
       "        vertical-align: top;\n",
       "    }\n",
       "\n",
       "    .dataframe thead th {\n",
       "        text-align: right;\n",
       "    }\n",
       "</style>\n",
       "<table border=\"1\" class=\"dataframe\">\n",
       "  <thead>\n",
       "    <tr style=\"text-align: right;\">\n",
       "      <th></th>\n",
       "      <th>id</th>\n",
       "      <th>text</th>\n",
       "      <th>label</th>\n",
       "    </tr>\n",
       "  </thead>\n",
       "  <tbody>\n",
       "    <tr>\n",
       "      <th>0</th>\n",
       "      <td>1357999284721525</td>\n",
       "      <td>‼️‼️4.000 - 6.000 zł za spisanie i zamknięcie ...</td>\n",
       "      <td>NaN</td>\n",
       "    </tr>\n",
       "    <tr>\n",
       "      <th>1</th>\n",
       "      <td>1512648315923287</td>\n",
       "      <td>WARSZAWA!\\n\\nPotrzebuję hostessy lub hosta! 🙂\\...</td>\n",
       "      <td>NaN</td>\n",
       "    </tr>\n",
       "    <tr>\n",
       "      <th>2</th>\n",
       "      <td>1512730425915076</td>\n",
       "      <td>PRACA OD JUTRA\\nZatrudnię pełnoletnie osoby do...</td>\n",
       "      <td>NaN</td>\n",
       "    </tr>\n",
       "    <tr>\n",
       "      <th>3</th>\n",
       "      <td>1512510969270355</td>\n",
       "      <td>W związku z dynamicznie rozwijającym się Zespo...</td>\n",
       "      <td>NaN</td>\n",
       "    </tr>\n",
       "    <tr>\n",
       "      <th>4</th>\n",
       "      <td>1505264493328336</td>\n",
       "      <td>Przy komputerze\\nUmowa, wynagrodzenie co miesi...</td>\n",
       "      <td>NaN</td>\n",
       "    </tr>\n",
       "  </tbody>\n",
       "</table>\n",
       "</div>"
      ],
      "text/plain": [
       "                 id                                               text  label\n",
       "0  1357999284721525  ‼️‼️4.000 - 6.000 zł za spisanie i zamknięcie ...    NaN\n",
       "1  1512648315923287  WARSZAWA!\\n\\nPotrzebuję hostessy lub hosta! 🙂\\...    NaN\n",
       "2  1512730425915076  PRACA OD JUTRA\\nZatrudnię pełnoletnie osoby do...    NaN\n",
       "3  1512510969270355  W związku z dynamicznie rozwijającym się Zespo...    NaN\n",
       "4  1505264493328336  Przy komputerze\\nUmowa, wynagrodzenie co miesi...    NaN"
      ]
     },
     "execution_count": 35,
     "metadata": {},
     "output_type": "execute_result"
    }
   ],
   "source": [
    "df_all = pd.concat([df_fb, df_olx, df_o24, df_jh, df_jhg], ignore_index=True)\n",
    "df_all.head()"
   ]
  },
  {
   "cell_type": "code",
   "execution_count": 36,
   "metadata": {},
   "outputs": [
    {
     "data": {
      "text/plain": [
       "(3423, 3)"
      ]
     },
     "execution_count": 36,
     "metadata": {},
     "output_type": "execute_result"
    }
   ],
   "source": [
    "df_all.shape"
   ]
  },
  {
   "cell_type": "code",
   "execution_count": 37,
   "metadata": {},
   "outputs": [
    {
     "data": {
      "text/plain": [
       "2905"
      ]
     },
     "execution_count": 37,
     "metadata": {},
     "output_type": "execute_result"
    }
   ],
   "source": [
    "df_all['text'].nunique()"
   ]
  },
  {
   "cell_type": "code",
   "execution_count": 38,
   "metadata": {},
   "outputs": [],
   "source": [
    "df_all.dropna(subset=['text'], inplace=True)"
   ]
  },
  {
   "cell_type": "code",
   "execution_count": 39,
   "metadata": {},
   "outputs": [],
   "source": [
    "df_all['text'] = df_all['text'].apply(lambda x: re.sub('[\\W]+', ' ', x))"
   ]
  },
  {
   "cell_type": "code",
   "execution_count": 40,
   "metadata": {},
   "outputs": [],
   "source": [
    "df_all['text'] = df_all['text'].apply(str.lower)"
   ]
  },
  {
   "cell_type": "code",
   "execution_count": 41,
   "metadata": {},
   "outputs": [
    {
     "data": {
      "text/html": [
       "<div>\n",
       "<style scoped>\n",
       "    .dataframe tbody tr th:only-of-type {\n",
       "        vertical-align: middle;\n",
       "    }\n",
       "\n",
       "    .dataframe tbody tr th {\n",
       "        vertical-align: top;\n",
       "    }\n",
       "\n",
       "    .dataframe thead th {\n",
       "        text-align: right;\n",
       "    }\n",
       "</style>\n",
       "<table border=\"1\" class=\"dataframe\">\n",
       "  <thead>\n",
       "    <tr style=\"text-align: right;\">\n",
       "      <th></th>\n",
       "      <th>id</th>\n",
       "      <th>text</th>\n",
       "      <th>label</th>\n",
       "    </tr>\n",
       "  </thead>\n",
       "  <tbody>\n",
       "    <tr>\n",
       "      <th>0</th>\n",
       "      <td>1357999284721525</td>\n",
       "      <td>4 000 6 000 zł za spisanie i zamknięcie 1 umo...</td>\n",
       "      <td>NaN</td>\n",
       "    </tr>\n",
       "    <tr>\n",
       "      <th>1</th>\n",
       "      <td>1512648315923287</td>\n",
       "      <td>warszawa potrzebuję hostessy lub hosta 30 11 0...</td>\n",
       "      <td>NaN</td>\n",
       "    </tr>\n",
       "    <tr>\n",
       "      <th>2</th>\n",
       "      <td>1512730425915076</td>\n",
       "      <td>praca od jutra zatrudnię pełnoletnie osoby do ...</td>\n",
       "      <td>NaN</td>\n",
       "    </tr>\n",
       "    <tr>\n",
       "      <th>3</th>\n",
       "      <td>1512510969270355</td>\n",
       "      <td>w związku z dynamicznie rozwijającym się zespo...</td>\n",
       "      <td>NaN</td>\n",
       "    </tr>\n",
       "    <tr>\n",
       "      <th>4</th>\n",
       "      <td>1505264493328336</td>\n",
       "      <td>przy komputerze umowa wynagrodzenie co miesiąc...</td>\n",
       "      <td>NaN</td>\n",
       "    </tr>\n",
       "  </tbody>\n",
       "</table>\n",
       "</div>"
      ],
      "text/plain": [
       "                 id                                               text  label\n",
       "0  1357999284721525   4 000 6 000 zł za spisanie i zamknięcie 1 umo...    NaN\n",
       "1  1512648315923287  warszawa potrzebuję hostessy lub hosta 30 11 0...    NaN\n",
       "2  1512730425915076  praca od jutra zatrudnię pełnoletnie osoby do ...    NaN\n",
       "3  1512510969270355  w związku z dynamicznie rozwijającym się zespo...    NaN\n",
       "4  1505264493328336  przy komputerze umowa wynagrodzenie co miesiąc...    NaN"
      ]
     },
     "execution_count": 41,
     "metadata": {},
     "output_type": "execute_result"
    }
   ],
   "source": [
    "df_all.head()"
   ]
  },
  {
   "cell_type": "code",
   "execution_count": 42,
   "metadata": {},
   "outputs": [],
   "source": [
    "df_all.to_csv('../data/all_cleaned_data.csv', index=False)\n",
    "with open('../data/all_cleaned_data.json', 'w', encoding='utf-8') as f:\n",
    "  df_all.to_json(f, force_ascii=False, orient='records')"
   ]
  }
 ],
 "metadata": {
  "kernelspec": {
   "display_name": "venv",
   "language": "python",
   "name": "python3"
  },
  "language_info": {
   "codemirror_mode": {
    "name": "ipython",
    "version": 3
   },
   "file_extension": ".py",
   "mimetype": "text/x-python",
   "name": "python",
   "nbconvert_exporter": "python",
   "pygments_lexer": "ipython3",
   "version": "3.9.6"
  },
  "orig_nbformat": 4
 },
 "nbformat": 4,
 "nbformat_minor": 2
}
