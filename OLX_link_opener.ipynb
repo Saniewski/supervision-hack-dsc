{
 "cells": [
  {
   "cell_type": "code",
   "execution_count": 15,
   "metadata": {},
   "outputs": [
    {
     "name": "stdout",
     "output_type": "stream",
     "text": [
      "Potrzebna Pani do sprzątania SALONU FRYZJERSKIEGOPraca 6 dni w tygodniuod poniedziałku do piątku po godzinie 21 ,w sobotę po godzinie 18czas pracy 2,5-3 godzinymiejsce pracy Śródmieściewięcej informacji pod numerem telefonu 69*****34\n"
     ]
    }
   ],
   "source": [
    "from bs4 import BeautifulSoup\n",
    "import requests\n",
    "\n",
    "base_link = 'http://www.olx.pl'\n",
    "link_list = [] \n",
    "with open('olx.txt', 'r') as plik:\n",
    "    for linia in plik:\n",
    "        link = linia.strip()\n",
    "        link_list.append(link)\n",
    "new_list = [base_link + link for link in link_list]\n",
    "response = requests.get(new_list[1])\n",
    "html = response.text\n",
    "soup = BeautifulSoup(html, 'html.parser')\n",
    "html = soup.prettify()\n",
    "elementy = soup.select('.css-19srbbu')\n",
    "\n",
    "for element in elementy:\n",
    "    tekst = element.get_text()\n",
    "    print(tekst)\n",
    "\n",
    "\n"
   ]
  }
 ],
 "metadata": {
  "kernelspec": {
   "display_name": "Python 3",
   "language": "python",
   "name": "python3"
  },
  "language_info": {
   "codemirror_mode": {
    "name": "ipython",
    "version": 3
   },
   "file_extension": ".py",
   "mimetype": "text/x-python",
   "name": "python",
   "nbconvert_exporter": "python",
   "pygments_lexer": "ipython3",
   "version": "3.10.6"
  },
  "orig_nbformat": 4
 },
 "nbformat": 4,
 "nbformat_minor": 2
}
