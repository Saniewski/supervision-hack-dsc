{
 "cells": [
  {
   "cell_type": "code",
   "execution_count": 11,
   "metadata": {},
   "outputs": [],
   "source": [
    "import pandas as pd\n",
    "import numpy as np\n",
    "from sklearn.cluster import KMeans"
   ]
  },
  {
   "cell_type": "code",
   "execution_count": 12,
   "metadata": {},
   "outputs": [
    {
     "data": {
      "text/html": [
       "<div>\n",
       "<style scoped>\n",
       "    .dataframe tbody tr th:only-of-type {\n",
       "        vertical-align: middle;\n",
       "    }\n",
       "\n",
       "    .dataframe tbody tr th {\n",
       "        vertical-align: top;\n",
       "    }\n",
       "\n",
       "    .dataframe thead th {\n",
       "        text-align: right;\n",
       "    }\n",
       "</style>\n",
       "<table border=\"1\" class=\"dataframe\">\n",
       "  <thead>\n",
       "    <tr style=\"text-align: right;\">\n",
       "      <th></th>\n",
       "      <th>id</th>\n",
       "      <th>text</th>\n",
       "      <th>label</th>\n",
       "      <th>embeddings</th>\n",
       "    </tr>\n",
       "  </thead>\n",
       "  <tbody>\n",
       "    <tr>\n",
       "      <th>0</th>\n",
       "      <td>1357999284721525</td>\n",
       "      <td>4 000 6 000 zł za spisanie i zamknięcie 1 umo...</td>\n",
       "      <td>NaN</td>\n",
       "      <td>[-0.7777841091000001, -0.2634485662, 0.6810794...</td>\n",
       "    </tr>\n",
       "    <tr>\n",
       "      <th>1</th>\n",
       "      <td>1512648315923287</td>\n",
       "      <td>warszawa potrzebuję hostessy lub hosta 30 11 0...</td>\n",
       "      <td>NaN</td>\n",
       "      <td>[-0.8700618744, -0.4192576408, 0.8261056542, 2...</td>\n",
       "    </tr>\n",
       "    <tr>\n",
       "      <th>2</th>\n",
       "      <td>1512730425915076</td>\n",
       "      <td>praca od jutra zatrudnię pełnoletnie osoby do ...</td>\n",
       "      <td>NaN</td>\n",
       "      <td>[-1.3931413889, -0.31156659130000003, 0.704142...</td>\n",
       "    </tr>\n",
       "    <tr>\n",
       "      <th>3</th>\n",
       "      <td>1512510969270355</td>\n",
       "      <td>w związku z dynamicznie rozwijającym się zespo...</td>\n",
       "      <td>NaN</td>\n",
       "      <td>[-0.7349925041, -0.980086863, 0.6741656065, 0....</td>\n",
       "    </tr>\n",
       "    <tr>\n",
       "      <th>4</th>\n",
       "      <td>1505264493328336</td>\n",
       "      <td>przy komputerze umowa wynagrodzenie co miesiąc...</td>\n",
       "      <td>NaN</td>\n",
       "      <td>[-0.6780881882, -0.7579360604000001, 0.4117349...</td>\n",
       "    </tr>\n",
       "  </tbody>\n",
       "</table>\n",
       "</div>"
      ],
      "text/plain": [
       "                 id                                               text  label   \n",
       "0  1357999284721525   4 000 6 000 zł za spisanie i zamknięcie 1 umo...    NaN  \\\n",
       "1  1512648315923287  warszawa potrzebuję hostessy lub hosta 30 11 0...    NaN   \n",
       "2  1512730425915076  praca od jutra zatrudnię pełnoletnie osoby do ...    NaN   \n",
       "3  1512510969270355  w związku z dynamicznie rozwijającym się zespo...    NaN   \n",
       "4  1505264493328336  przy komputerze umowa wynagrodzenie co miesiąc...    NaN   \n",
       "\n",
       "                                          embeddings  \n",
       "0  [-0.7777841091000001, -0.2634485662, 0.6810794...  \n",
       "1  [-0.8700618744, -0.4192576408, 0.8261056542, 2...  \n",
       "2  [-1.3931413889, -0.31156659130000003, 0.704142...  \n",
       "3  [-0.7349925041, -0.980086863, 0.6741656065, 0....  \n",
       "4  [-0.6780881882, -0.7579360604000001, 0.4117349...  "
      ]
     },
     "execution_count": 12,
     "metadata": {},
     "output_type": "execute_result"
    }
   ],
   "source": [
    "df = pd.read_json('../data/all_data_polbert_embeddings.json')\n",
    "df.head()"
   ]
  },
  {
   "cell_type": "code",
   "execution_count": 13,
   "metadata": {},
   "outputs": [
    {
     "name": "stdout",
     "output_type": "stream",
     "text": [
      "<class 'pandas.core.frame.DataFrame'>\n",
      "RangeIndex: 3423 entries, 0 to 3422\n",
      "Data columns (total 4 columns):\n",
      " #   Column      Non-Null Count  Dtype  \n",
      "---  ------      --------------  -----  \n",
      " 0   id          3423 non-null   object \n",
      " 1   text        3423 non-null   object \n",
      " 2   label       66 non-null     float64\n",
      " 3   embeddings  3423 non-null   object \n",
      "dtypes: float64(1), object(3)\n",
      "memory usage: 107.1+ KB\n"
     ]
    }
   ],
   "source": [
    "df.info()"
   ]
  },
  {
   "cell_type": "code",
   "execution_count": 14,
   "metadata": {},
   "outputs": [
    {
     "data": {
      "text/plain": [
       "list"
      ]
     },
     "execution_count": 14,
     "metadata": {},
     "output_type": "execute_result"
    }
   ],
   "source": [
    "type(df['embeddings'][0])"
   ]
  },
  {
   "cell_type": "code",
   "execution_count": 15,
   "metadata": {},
   "outputs": [],
   "source": [
    "embeddings = np.array(df['embeddings'].tolist())"
   ]
  },
  {
   "cell_type": "code",
   "execution_count": 16,
   "metadata": {},
   "outputs": [
    {
     "name": "stderr",
     "output_type": "stream",
     "text": [
      "/Users/paul/workspace/pejot/supervision-hack-dsc/venv/lib/python3.9/site-packages/sklearn/cluster/_kmeans.py:870: FutureWarning: The default value of `n_init` will change from 10 to 'auto' in 1.4. Set the value of `n_init` explicitly to suppress the warning\n",
      "  warnings.warn(\n"
     ]
    },
    {
     "data": {
      "text/html": [
       "<style>#sk-container-id-2 {color: black;background-color: white;}#sk-container-id-2 pre{padding: 0;}#sk-container-id-2 div.sk-toggleable {background-color: white;}#sk-container-id-2 label.sk-toggleable__label {cursor: pointer;display: block;width: 100%;margin-bottom: 0;padding: 0.3em;box-sizing: border-box;text-align: center;}#sk-container-id-2 label.sk-toggleable__label-arrow:before {content: \"▸\";float: left;margin-right: 0.25em;color: #696969;}#sk-container-id-2 label.sk-toggleable__label-arrow:hover:before {color: black;}#sk-container-id-2 div.sk-estimator:hover label.sk-toggleable__label-arrow:before {color: black;}#sk-container-id-2 div.sk-toggleable__content {max-height: 0;max-width: 0;overflow: hidden;text-align: left;background-color: #f0f8ff;}#sk-container-id-2 div.sk-toggleable__content pre {margin: 0.2em;color: black;border-radius: 0.25em;background-color: #f0f8ff;}#sk-container-id-2 input.sk-toggleable__control:checked~div.sk-toggleable__content {max-height: 200px;max-width: 100%;overflow: auto;}#sk-container-id-2 input.sk-toggleable__control:checked~label.sk-toggleable__label-arrow:before {content: \"▾\";}#sk-container-id-2 div.sk-estimator input.sk-toggleable__control:checked~label.sk-toggleable__label {background-color: #d4ebff;}#sk-container-id-2 div.sk-label input.sk-toggleable__control:checked~label.sk-toggleable__label {background-color: #d4ebff;}#sk-container-id-2 input.sk-hidden--visually {border: 0;clip: rect(1px 1px 1px 1px);clip: rect(1px, 1px, 1px, 1px);height: 1px;margin: -1px;overflow: hidden;padding: 0;position: absolute;width: 1px;}#sk-container-id-2 div.sk-estimator {font-family: monospace;background-color: #f0f8ff;border: 1px dotted black;border-radius: 0.25em;box-sizing: border-box;margin-bottom: 0.5em;}#sk-container-id-2 div.sk-estimator:hover {background-color: #d4ebff;}#sk-container-id-2 div.sk-parallel-item::after {content: \"\";width: 100%;border-bottom: 1px solid gray;flex-grow: 1;}#sk-container-id-2 div.sk-label:hover label.sk-toggleable__label {background-color: #d4ebff;}#sk-container-id-2 div.sk-serial::before {content: \"\";position: absolute;border-left: 1px solid gray;box-sizing: border-box;top: 0;bottom: 0;left: 50%;z-index: 0;}#sk-container-id-2 div.sk-serial {display: flex;flex-direction: column;align-items: center;background-color: white;padding-right: 0.2em;padding-left: 0.2em;position: relative;}#sk-container-id-2 div.sk-item {position: relative;z-index: 1;}#sk-container-id-2 div.sk-parallel {display: flex;align-items: stretch;justify-content: center;background-color: white;position: relative;}#sk-container-id-2 div.sk-item::before, #sk-container-id-2 div.sk-parallel-item::before {content: \"\";position: absolute;border-left: 1px solid gray;box-sizing: border-box;top: 0;bottom: 0;left: 50%;z-index: -1;}#sk-container-id-2 div.sk-parallel-item {display: flex;flex-direction: column;z-index: 1;position: relative;background-color: white;}#sk-container-id-2 div.sk-parallel-item:first-child::after {align-self: flex-end;width: 50%;}#sk-container-id-2 div.sk-parallel-item:last-child::after {align-self: flex-start;width: 50%;}#sk-container-id-2 div.sk-parallel-item:only-child::after {width: 0;}#sk-container-id-2 div.sk-dashed-wrapped {border: 1px dashed gray;margin: 0 0.4em 0.5em 0.4em;box-sizing: border-box;padding-bottom: 0.4em;background-color: white;}#sk-container-id-2 div.sk-label label {font-family: monospace;font-weight: bold;display: inline-block;line-height: 1.2em;}#sk-container-id-2 div.sk-label-container {text-align: center;}#sk-container-id-2 div.sk-container {/* jupyter's `normalize.less` sets `[hidden] { display: none; }` but bootstrap.min.css set `[hidden] { display: none !important; }` so we also need the `!important` here to be able to override the default hidden behavior on the sphinx rendered scikit-learn.org. See: https://github.com/scikit-learn/scikit-learn/issues/21755 */display: inline-block !important;position: relative;}#sk-container-id-2 div.sk-text-repr-fallback {display: none;}</style><div id=\"sk-container-id-2\" class=\"sk-top-container\"><div class=\"sk-text-repr-fallback\"><pre>KMeans(n_clusters=2, random_state=1)</pre><b>In a Jupyter environment, please rerun this cell to show the HTML representation or trust the notebook. <br />On GitHub, the HTML representation is unable to render, please try loading this page with nbviewer.org.</b></div><div class=\"sk-container\" hidden><div class=\"sk-item\"><div class=\"sk-estimator sk-toggleable\"><input class=\"sk-toggleable__control sk-hidden--visually\" id=\"sk-estimator-id-2\" type=\"checkbox\" checked><label for=\"sk-estimator-id-2\" class=\"sk-toggleable__label sk-toggleable__label-arrow\">KMeans</label><div class=\"sk-toggleable__content\"><pre>KMeans(n_clusters=2, random_state=1)</pre></div></div></div></div></div>"
      ],
      "text/plain": [
       "KMeans(n_clusters=2, random_state=1)"
      ]
     },
     "execution_count": 16,
     "metadata": {},
     "output_type": "execute_result"
    }
   ],
   "source": [
    "kmeans_model = KMeans(n_clusters=2, random_state=1)\n",
    "kmeans_model.fit(embeddings)"
   ]
  },
  {
   "cell_type": "code",
   "execution_count": 17,
   "metadata": {},
   "outputs": [],
   "source": [
    "cluster_labels = kmeans_model.labels_"
   ]
  },
  {
   "cell_type": "code",
   "execution_count": 18,
   "metadata": {},
   "outputs": [],
   "source": [
    "df['cluster'] = cluster_labels"
   ]
  },
  {
   "cell_type": "code",
   "execution_count": 19,
   "metadata": {},
   "outputs": [
    {
     "data": {
      "text/html": [
       "<div>\n",
       "<style scoped>\n",
       "    .dataframe tbody tr th:only-of-type {\n",
       "        vertical-align: middle;\n",
       "    }\n",
       "\n",
       "    .dataframe tbody tr th {\n",
       "        vertical-align: top;\n",
       "    }\n",
       "\n",
       "    .dataframe thead th {\n",
       "        text-align: right;\n",
       "    }\n",
       "</style>\n",
       "<table border=\"1\" class=\"dataframe\">\n",
       "  <thead>\n",
       "    <tr style=\"text-align: right;\">\n",
       "      <th></th>\n",
       "      <th>id</th>\n",
       "      <th>text</th>\n",
       "      <th>label</th>\n",
       "      <th>embeddings</th>\n",
       "      <th>cluster</th>\n",
       "    </tr>\n",
       "  </thead>\n",
       "  <tbody>\n",
       "    <tr>\n",
       "      <th>0</th>\n",
       "      <td>1357999284721525</td>\n",
       "      <td>4 000 6 000 zł za spisanie i zamknięcie 1 umo...</td>\n",
       "      <td>NaN</td>\n",
       "      <td>[-0.7777841091000001, -0.2634485662, 0.6810794...</td>\n",
       "      <td>1</td>\n",
       "    </tr>\n",
       "    <tr>\n",
       "      <th>1</th>\n",
       "      <td>1512648315923287</td>\n",
       "      <td>warszawa potrzebuję hostessy lub hosta 30 11 0...</td>\n",
       "      <td>NaN</td>\n",
       "      <td>[-0.8700618744, -0.4192576408, 0.8261056542, 2...</td>\n",
       "      <td>1</td>\n",
       "    </tr>\n",
       "    <tr>\n",
       "      <th>2</th>\n",
       "      <td>1512730425915076</td>\n",
       "      <td>praca od jutra zatrudnię pełnoletnie osoby do ...</td>\n",
       "      <td>NaN</td>\n",
       "      <td>[-1.3931413889, -0.31156659130000003, 0.704142...</td>\n",
       "      <td>0</td>\n",
       "    </tr>\n",
       "    <tr>\n",
       "      <th>3</th>\n",
       "      <td>1512510969270355</td>\n",
       "      <td>w związku z dynamicznie rozwijającym się zespo...</td>\n",
       "      <td>NaN</td>\n",
       "      <td>[-0.7349925041, -0.980086863, 0.6741656065, 0....</td>\n",
       "      <td>0</td>\n",
       "    </tr>\n",
       "    <tr>\n",
       "      <th>4</th>\n",
       "      <td>1505264493328336</td>\n",
       "      <td>przy komputerze umowa wynagrodzenie co miesiąc...</td>\n",
       "      <td>NaN</td>\n",
       "      <td>[-0.6780881882, -0.7579360604000001, 0.4117349...</td>\n",
       "      <td>1</td>\n",
       "    </tr>\n",
       "  </tbody>\n",
       "</table>\n",
       "</div>"
      ],
      "text/plain": [
       "                 id                                               text  label   \n",
       "0  1357999284721525   4 000 6 000 zł za spisanie i zamknięcie 1 umo...    NaN  \\\n",
       "1  1512648315923287  warszawa potrzebuję hostessy lub hosta 30 11 0...    NaN   \n",
       "2  1512730425915076  praca od jutra zatrudnię pełnoletnie osoby do ...    NaN   \n",
       "3  1512510969270355  w związku z dynamicznie rozwijającym się zespo...    NaN   \n",
       "4  1505264493328336  przy komputerze umowa wynagrodzenie co miesiąc...    NaN   \n",
       "\n",
       "                                          embeddings  cluster  \n",
       "0  [-0.7777841091000001, -0.2634485662, 0.6810794...        1  \n",
       "1  [-0.8700618744, -0.4192576408, 0.8261056542, 2...        1  \n",
       "2  [-1.3931413889, -0.31156659130000003, 0.704142...        0  \n",
       "3  [-0.7349925041, -0.980086863, 0.6741656065, 0....        0  \n",
       "4  [-0.6780881882, -0.7579360604000001, 0.4117349...        1  "
      ]
     },
     "execution_count": 19,
     "metadata": {},
     "output_type": "execute_result"
    }
   ],
   "source": [
    "df.head()"
   ]
  },
  {
   "cell_type": "code",
   "execution_count": 20,
   "metadata": {},
   "outputs": [
    {
     "data": {
      "text/plain": [
       "cluster\n",
       "0    24\n",
       "1     3\n",
       "Name: count, dtype: int64"
      ]
     },
     "execution_count": 20,
     "metadata": {},
     "output_type": "execute_result"
    }
   ],
   "source": [
    "distribution_positives = df[df['label'] == 1]['cluster'].value_counts()\n",
    "distribution_positives"
   ]
  },
  {
   "cell_type": "code",
   "execution_count": 21,
   "metadata": {},
   "outputs": [
    {
     "name": "stdout",
     "output_type": "stream",
     "text": [
      "Cluster with most positives: 0\n"
     ]
    }
   ],
   "source": [
    "print('Cluster with most positives:', distribution_positives.idxmax())"
   ]
  },
  {
   "cell_type": "code",
   "execution_count": 22,
   "metadata": {},
   "outputs": [
    {
     "data": {
      "text/plain": [
       "cluster\n",
       "1    20\n",
       "0    19\n",
       "Name: count, dtype: int64"
      ]
     },
     "execution_count": 22,
     "metadata": {},
     "output_type": "execute_result"
    }
   ],
   "source": [
    "distribution_negatives = df[df['label'] == 0]['cluster'].value_counts()\n",
    "distribution_negatives"
   ]
  },
  {
   "cell_type": "code",
   "execution_count": 30,
   "metadata": {},
   "outputs": [
    {
     "name": "stdout",
     "output_type": "stream",
     "text": [
      "Suspected cluster of negatives: 1\n",
      "Correctly classified positives: 24 out of 27\n",
      "Correctly classified negatives: 20 out of 39\n",
      "\n"
     ]
    }
   ],
   "source": [
    "print(f'''Suspected cluster of negatives: 1\n",
    "Correctly classified positives: {distribution_positives.loc[0]} out of {distribution_positives.sum()}\n",
    "Correctly classified negatives: {distribution_negatives.loc[1]} out of {distribution_negatives.sum()}\n",
    "''')"
   ]
  },
  {
   "cell_type": "code",
   "execution_count": 33,
   "metadata": {},
   "outputs": [
    {
     "name": "stdout",
     "output_type": "stream",
     "text": [
      "Confusion matrix:\n",
      "cluster   0   1\n",
      "label          \n",
      "0.0      19  20\n",
      "1.0      24   3\n",
      "\n"
     ]
    }
   ],
   "source": [
    "print(f'''Confusion matrix:\n",
    "{df.groupby(['label', 'cluster']).size().unstack('cluster')}\n",
    "''')"
   ]
  },
  {
   "cell_type": "code",
   "execution_count": 36,
   "metadata": {},
   "outputs": [
    {
     "name": "stdout",
     "output_type": "stream",
     "text": [
      "Metrics:\n",
      "Accuracy: 0.6666666666666666\n",
      "Precision: 0.5581395348837209\n",
      "Recall: 0.8888888888888888\n",
      "Support: 27\n",
      "F1: 0.6857142857142857\n",
      "\n"
     ]
    }
   ],
   "source": [
    "print(f'''Metrics:\n",
    "Accuracy: {(distribution_positives.loc[0] + distribution_negatives.loc[1]) / (distribution_positives.sum() + distribution_negatives.sum())}\n",
    "Precision: {distribution_positives.loc[0] / (distribution_positives.loc[0] + distribution_negatives.loc[0])}\n",
    "Recall: {distribution_positives.loc[0] / (distribution_positives.loc[0] + distribution_positives.loc[1])}\n",
    "Support: {distribution_positives.loc[0] + distribution_positives.loc[1]}\n",
    "F1: {2 * (distribution_positives.loc[0] / (distribution_positives.loc[0] + distribution_negatives.loc[0])) * (distribution_positives.loc[0] / (distribution_positives.loc[0] + distribution_positives.loc[1])) / ((distribution_positives.loc[0] / (distribution_positives.loc[0] + distribution_negatives.loc[0])) + (distribution_positives.loc[0] / (distribution_positives.loc[0] + distribution_positives.loc[1])))}\n",
    "''')"
   ]
  },
  {
   "cell_type": "code",
   "execution_count": 37,
   "metadata": {},
   "outputs": [],
   "source": [
    "df_with_labels = df[(df['label'] == 1) | (df['label'] == 0)]"
   ]
  },
  {
   "cell_type": "code",
   "execution_count": 38,
   "metadata": {},
   "outputs": [
    {
     "data": {
      "text/plain": [
       "(66, 5)"
      ]
     },
     "execution_count": 38,
     "metadata": {},
     "output_type": "execute_result"
    }
   ],
   "source": [
    "df_with_labels.shape"
   ]
  },
  {
   "cell_type": "code",
   "execution_count": 39,
   "metadata": {},
   "outputs": [
    {
     "name": "stdout",
     "output_type": "stream",
     "text": [
      "Cluster 1 (suspected negatives):\n"
     ]
    }
   ],
   "source": [
    "print('Cluster 1 (suspected negatives):')"
   ]
  },
  {
   "cell_type": "code",
   "execution_count": 40,
   "metadata": {},
   "outputs": [
    {
     "data": {
      "text/plain": [
       "3372     konto bankowe anonimowe pewne na 100 w jednym...\n",
       "3373    dostępne jest konto bankowe o wysokim poziomie...\n",
       "3374    dostępne jest konto bankowe które gwarantuje p...\n",
       "3375    posiadamy konto bankowe które zapewnia absolut...\n",
       "3376    mamy dostępne konto bankowe które zapewnia peł...\n",
       "3377    sprzedam konta bankowe bez obciążeń dostępne c...\n",
       "3378    oferuję do sprzedaży konta bankowe bez żadnych...\n",
       "3379    mam na sprzedaż konta bankowe które są wolne o...\n",
       "3380    posiadam na sprzedaż konta bankowe które są ca...\n",
       "3381    mam na sprzedaż konta bankowe które są wolne o...\n",
       "3385    witam sprzedajemy konta bankowe na słupa bez k...\n",
       "3386                                                     \n",
       "3389    zatrudnimy doracę doradczynię ds kontaktu z kl...\n",
       "3390    jeśli w pracy nie lubisz rutyny szukasz stałeg...\n",
       "3414    zatrudnimy osobę do przeprowadzania badań tele...\n",
       "3415    zatrudnimy kierowcę do przewozu towarów niebez...\n",
       "3416    poszukujemy informatyka z umiejętnościami włam...\n",
       "3417    firma nigdy cię nie znajdziemy poszukuje praco...\n",
       "3418    zatrudnimy mechaników samochodowych do legaliz...\n",
       "3419    poszukujemy specjalisty ds sprzedaży dla przed...\n",
       "3420    zatrudnimy osoby do tworzenia laboratoriów nie...\n",
       "3421    zatrudnimy elokwentnych konsultantów do oszust...\n",
       "3422    firma o nieznanej nazwie poszukuje osób do nie...\n",
       "Name: text, dtype: object"
      ]
     },
     "execution_count": 40,
     "metadata": {},
     "output_type": "execute_result"
    }
   ],
   "source": [
    "df_with_labels[df_with_labels['cluster'] == 1]['text']"
   ]
  },
  {
   "cell_type": "code",
   "execution_count": 126,
   "metadata": {},
   "outputs": [],
   "source": [
    "### This was used to generate new validation data using GPT-4\n",
    "\n",
    "# df_correctly_clustered_positives = df_with_labels[(df_with_labels['cluster'] == 0) & (df_with_labels['label'] == 1)]\n",
    "# df_correctly_clustered_negatives = df_with_labels[(df_with_labels['cluster'] == 1) & (df_with_labels['label'] == 0)]\n",
    "#\n",
    "# df_correctly_clustered = pd.concat([df_correctly_clustered_positives, df_correctly_clustered_negatives])\n",
    "# df_correctly_clustered = df_correctly_clustered[['text', 'label', 'cluster']]\n",
    "# df_correctly_clustered.head()\n",
    "#\n",
    "# df_correctly_clustered.to_csv('../data/correctly_clustered.csv', index=False)"
   ]
  },
  {
   "cell_type": "code",
   "execution_count": 41,
   "metadata": {},
   "outputs": [
    {
     "data": {
      "text/html": [
       "<div>\n",
       "<style scoped>\n",
       "    .dataframe tbody tr th:only-of-type {\n",
       "        vertical-align: middle;\n",
       "    }\n",
       "\n",
       "    .dataframe tbody tr th {\n",
       "        vertical-align: top;\n",
       "    }\n",
       "\n",
       "    .dataframe thead th {\n",
       "        text-align: right;\n",
       "    }\n",
       "</style>\n",
       "<table border=\"1\" class=\"dataframe\">\n",
       "  <thead>\n",
       "    <tr style=\"text-align: right;\">\n",
       "      <th></th>\n",
       "      <th>id</th>\n",
       "      <th>text</th>\n",
       "      <th>label</th>\n",
       "      <th>embeddings</th>\n",
       "      <th>cluster</th>\n",
       "    </tr>\n",
       "  </thead>\n",
       "  <tbody>\n",
       "    <tr>\n",
       "      <th>0</th>\n",
       "      <td>1357999284721525</td>\n",
       "      <td>4 000 6 000 zł za spisanie i zamknięcie 1 umo...</td>\n",
       "      <td>NaN</td>\n",
       "      <td>[-0.7777841091000001, -0.2634485662, 0.6810794...</td>\n",
       "      <td>1</td>\n",
       "    </tr>\n",
       "    <tr>\n",
       "      <th>1</th>\n",
       "      <td>1512648315923287</td>\n",
       "      <td>warszawa potrzebuję hostessy lub hosta 30 11 0...</td>\n",
       "      <td>NaN</td>\n",
       "      <td>[-0.8700618744, -0.4192576408, 0.8261056542, 2...</td>\n",
       "      <td>1</td>\n",
       "    </tr>\n",
       "    <tr>\n",
       "      <th>2</th>\n",
       "      <td>1512730425915076</td>\n",
       "      <td>praca od jutra zatrudnię pełnoletnie osoby do ...</td>\n",
       "      <td>NaN</td>\n",
       "      <td>[-1.3931413889, -0.31156659130000003, 0.704142...</td>\n",
       "      <td>0</td>\n",
       "    </tr>\n",
       "    <tr>\n",
       "      <th>3</th>\n",
       "      <td>1512510969270355</td>\n",
       "      <td>w związku z dynamicznie rozwijającym się zespo...</td>\n",
       "      <td>NaN</td>\n",
       "      <td>[-0.7349925041, -0.980086863, 0.6741656065, 0....</td>\n",
       "      <td>0</td>\n",
       "    </tr>\n",
       "    <tr>\n",
       "      <th>4</th>\n",
       "      <td>1505264493328336</td>\n",
       "      <td>przy komputerze umowa wynagrodzenie co miesiąc...</td>\n",
       "      <td>NaN</td>\n",
       "      <td>[-0.6780881882, -0.7579360604000001, 0.4117349...</td>\n",
       "      <td>1</td>\n",
       "    </tr>\n",
       "  </tbody>\n",
       "</table>\n",
       "</div>"
      ],
      "text/plain": [
       "                 id                                               text  label   \n",
       "0  1357999284721525   4 000 6 000 zł za spisanie i zamknięcie 1 umo...    NaN  \\\n",
       "1  1512648315923287  warszawa potrzebuję hostessy lub hosta 30 11 0...    NaN   \n",
       "2  1512730425915076  praca od jutra zatrudnię pełnoletnie osoby do ...    NaN   \n",
       "3  1512510969270355  w związku z dynamicznie rozwijającym się zespo...    NaN   \n",
       "4  1505264493328336  przy komputerze umowa wynagrodzenie co miesiąc...    NaN   \n",
       "\n",
       "                                          embeddings  cluster  \n",
       "0  [-0.7777841091000001, -0.2634485662, 0.6810794...        1  \n",
       "1  [-0.8700618744, -0.4192576408, 0.8261056542, 2...        1  \n",
       "2  [-1.3931413889, -0.31156659130000003, 0.704142...        0  \n",
       "3  [-0.7349925041, -0.980086863, 0.6741656065, 0....        0  \n",
       "4  [-0.6780881882, -0.7579360604000001, 0.4117349...        1  "
      ]
     },
     "execution_count": 41,
     "metadata": {},
     "output_type": "execute_result"
    }
   ],
   "source": [
    "df.head()"
   ]
  },
  {
   "cell_type": "code",
   "execution_count": 42,
   "metadata": {},
   "outputs": [],
   "source": [
    "# cluster 0 are the positives\n",
    "# cluster 1 are the negatives\n",
    "df['label'] = df['cluster'].apply(lambda x: 1 if x == 0 else 0)\n",
    "df.drop(columns=['cluster'], inplace=True)"
   ]
  },
  {
   "cell_type": "code",
   "execution_count": 43,
   "metadata": {},
   "outputs": [
    {
     "data": {
      "text/html": [
       "<div>\n",
       "<style scoped>\n",
       "    .dataframe tbody tr th:only-of-type {\n",
       "        vertical-align: middle;\n",
       "    }\n",
       "\n",
       "    .dataframe tbody tr th {\n",
       "        vertical-align: top;\n",
       "    }\n",
       "\n",
       "    .dataframe thead th {\n",
       "        text-align: right;\n",
       "    }\n",
       "</style>\n",
       "<table border=\"1\" class=\"dataframe\">\n",
       "  <thead>\n",
       "    <tr style=\"text-align: right;\">\n",
       "      <th></th>\n",
       "      <th>id</th>\n",
       "      <th>text</th>\n",
       "      <th>label</th>\n",
       "      <th>embeddings</th>\n",
       "    </tr>\n",
       "  </thead>\n",
       "  <tbody>\n",
       "    <tr>\n",
       "      <th>0</th>\n",
       "      <td>1357999284721525</td>\n",
       "      <td>4 000 6 000 zł za spisanie i zamknięcie 1 umo...</td>\n",
       "      <td>0</td>\n",
       "      <td>[-0.7777841091000001, -0.2634485662, 0.6810794...</td>\n",
       "    </tr>\n",
       "    <tr>\n",
       "      <th>1</th>\n",
       "      <td>1512648315923287</td>\n",
       "      <td>warszawa potrzebuję hostessy lub hosta 30 11 0...</td>\n",
       "      <td>0</td>\n",
       "      <td>[-0.8700618744, -0.4192576408, 0.8261056542, 2...</td>\n",
       "    </tr>\n",
       "    <tr>\n",
       "      <th>2</th>\n",
       "      <td>1512730425915076</td>\n",
       "      <td>praca od jutra zatrudnię pełnoletnie osoby do ...</td>\n",
       "      <td>1</td>\n",
       "      <td>[-1.3931413889, -0.31156659130000003, 0.704142...</td>\n",
       "    </tr>\n",
       "    <tr>\n",
       "      <th>3</th>\n",
       "      <td>1512510969270355</td>\n",
       "      <td>w związku z dynamicznie rozwijającym się zespo...</td>\n",
       "      <td>1</td>\n",
       "      <td>[-0.7349925041, -0.980086863, 0.6741656065, 0....</td>\n",
       "    </tr>\n",
       "    <tr>\n",
       "      <th>4</th>\n",
       "      <td>1505264493328336</td>\n",
       "      <td>przy komputerze umowa wynagrodzenie co miesiąc...</td>\n",
       "      <td>0</td>\n",
       "      <td>[-0.6780881882, -0.7579360604000001, 0.4117349...</td>\n",
       "    </tr>\n",
       "  </tbody>\n",
       "</table>\n",
       "</div>"
      ],
      "text/plain": [
       "                 id                                               text  label   \n",
       "0  1357999284721525   4 000 6 000 zł za spisanie i zamknięcie 1 umo...      0  \\\n",
       "1  1512648315923287  warszawa potrzebuję hostessy lub hosta 30 11 0...      0   \n",
       "2  1512730425915076  praca od jutra zatrudnię pełnoletnie osoby do ...      1   \n",
       "3  1512510969270355  w związku z dynamicznie rozwijającym się zespo...      1   \n",
       "4  1505264493328336  przy komputerze umowa wynagrodzenie co miesiąc...      0   \n",
       "\n",
       "                                          embeddings  \n",
       "0  [-0.7777841091000001, -0.2634485662, 0.6810794...  \n",
       "1  [-0.8700618744, -0.4192576408, 0.8261056542, 2...  \n",
       "2  [-1.3931413889, -0.31156659130000003, 0.704142...  \n",
       "3  [-0.7349925041, -0.980086863, 0.6741656065, 0....  \n",
       "4  [-0.6780881882, -0.7579360604000001, 0.4117349...  "
      ]
     },
     "execution_count": 43,
     "metadata": {},
     "output_type": "execute_result"
    }
   ],
   "source": [
    "df.head()"
   ]
  },
  {
   "cell_type": "code",
   "execution_count": 44,
   "metadata": {},
   "outputs": [],
   "source": [
    "df.to_csv('../data/labeled_data_for_supervised.csv', index=False)\n",
    "with open('../data/labeled_data_for_supervised.json', 'w', encoding='utf-8') as f:\n",
    "  df.to_json(f, force_ascii=False, orient='records')"
   ]
  }
 ],
 "metadata": {
  "kernelspec": {
   "display_name": "venv",
   "language": "python",
   "name": "python3"
  },
  "language_info": {
   "codemirror_mode": {
    "name": "ipython",
    "version": 3
   },
   "file_extension": ".py",
   "mimetype": "text/x-python",
   "name": "python",
   "nbconvert_exporter": "python",
   "pygments_lexer": "ipython3",
   "version": "3.9.6"
  },
  "orig_nbformat": 4
 },
 "nbformat": 4,
 "nbformat_minor": 2
}
