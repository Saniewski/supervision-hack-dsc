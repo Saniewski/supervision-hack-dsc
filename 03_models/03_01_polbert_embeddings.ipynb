{
 "cells": [
  {
   "cell_type": "code",
   "execution_count": 24,
   "metadata": {},
   "outputs": [],
   "source": [
    "import pandas as pd\n",
    "from transformers import AutoModel, AutoTokenizer"
   ]
  },
  {
   "cell_type": "code",
   "execution_count": 25,
   "metadata": {},
   "outputs": [
    {
     "name": "stderr",
     "output_type": "stream",
     "text": [
      "Some weights of the model checkpoint at dkleczek/bert-base-polish-uncased-v1 were not used when initializing BertModel: ['cls.predictions.bias', 'cls.predictions.transform.LayerNorm.bias', 'cls.predictions.transform.LayerNorm.weight', 'cls.seq_relationship.bias', 'cls.seq_relationship.weight', 'cls.predictions.transform.dense.bias', 'cls.predictions.decoder.weight', 'cls.predictions.transform.dense.weight', 'cls.predictions.decoder.bias']\n",
      "- This IS expected if you are initializing BertModel from the checkpoint of a model trained on another task or with another architecture (e.g. initializing a BertForSequenceClassification model from a BertForPreTraining model).\n",
      "- This IS NOT expected if you are initializing BertModel from the checkpoint of a model that you expect to be exactly identical (initializing a BertForSequenceClassification model from a BertForSequenceClassification model).\n"
     ]
    }
   ],
   "source": [
    "model_name = \"dkleczek/bert-base-polish-uncased-v1\"\n",
    "model = AutoModel.from_pretrained(model_name)\n",
    "tokenizer = AutoTokenizer.from_pretrained(model_name)"
   ]
  },
  {
   "cell_type": "code",
   "execution_count": 26,
   "metadata": {},
   "outputs": [
    {
     "data": {
      "text/html": [
       "<div>\n",
       "<style scoped>\n",
       "    .dataframe tbody tr th:only-of-type {\n",
       "        vertical-align: middle;\n",
       "    }\n",
       "\n",
       "    .dataframe tbody tr th {\n",
       "        vertical-align: top;\n",
       "    }\n",
       "\n",
       "    .dataframe thead th {\n",
       "        text-align: right;\n",
       "    }\n",
       "</style>\n",
       "<table border=\"1\" class=\"dataframe\">\n",
       "  <thead>\n",
       "    <tr style=\"text-align: right;\">\n",
       "      <th></th>\n",
       "      <th>id</th>\n",
       "      <th>text</th>\n",
       "      <th>label</th>\n",
       "    </tr>\n",
       "  </thead>\n",
       "  <tbody>\n",
       "    <tr>\n",
       "      <th>0</th>\n",
       "      <td>1357999284721525</td>\n",
       "      <td>4 000 6 000 zł za spisanie i zamknięcie 1 umo...</td>\n",
       "      <td>NaN</td>\n",
       "    </tr>\n",
       "    <tr>\n",
       "      <th>1</th>\n",
       "      <td>1512648315923287</td>\n",
       "      <td>warszawa potrzebuję hostessy lub hosta 30 11 0...</td>\n",
       "      <td>NaN</td>\n",
       "    </tr>\n",
       "    <tr>\n",
       "      <th>2</th>\n",
       "      <td>1512730425915076</td>\n",
       "      <td>praca od jutra zatrudnię pełnoletnie osoby do ...</td>\n",
       "      <td>NaN</td>\n",
       "    </tr>\n",
       "    <tr>\n",
       "      <th>3</th>\n",
       "      <td>1512510969270355</td>\n",
       "      <td>w związku z dynamicznie rozwijającym się zespo...</td>\n",
       "      <td>NaN</td>\n",
       "    </tr>\n",
       "    <tr>\n",
       "      <th>4</th>\n",
       "      <td>1505264493328336</td>\n",
       "      <td>przy komputerze umowa wynagrodzenie co miesiąc...</td>\n",
       "      <td>NaN</td>\n",
       "    </tr>\n",
       "  </tbody>\n",
       "</table>\n",
       "</div>"
      ],
      "text/plain": [
       "                 id                                               text  label\n",
       "0  1357999284721525   4 000 6 000 zł za spisanie i zamknięcie 1 umo...    NaN\n",
       "1  1512648315923287  warszawa potrzebuję hostessy lub hosta 30 11 0...    NaN\n",
       "2  1512730425915076  praca od jutra zatrudnię pełnoletnie osoby do ...    NaN\n",
       "3  1512510969270355  w związku z dynamicznie rozwijającym się zespo...    NaN\n",
       "4  1505264493328336  przy komputerze umowa wynagrodzenie co miesiąc...    NaN"
      ]
     },
     "execution_count": 26,
     "metadata": {},
     "output_type": "execute_result"
    }
   ],
   "source": [
    "df = pd.read_json(\"../data/all_cleaned_data.json\")\n",
    "df.head()"
   ]
  },
  {
   "cell_type": "code",
   "execution_count": 27,
   "metadata": {},
   "outputs": [],
   "source": [
    "def get_embeddings(text):\n",
    "    encoded_input = tokenizer(text, padding=True, truncation=True, max_length=512, return_tensors='pt')\n",
    "    output = model(**encoded_input)\n",
    "    embeddings = output.last_hidden_state[:,0,:].detach().numpy()[0]\n",
    "    return embeddings"
   ]
  },
  {
   "cell_type": "code",
   "execution_count": 28,
   "metadata": {},
   "outputs": [],
   "source": [
    "df['embeddings'] = df['text'].apply(get_embeddings)"
   ]
  },
  {
   "cell_type": "code",
   "execution_count": 29,
   "metadata": {},
   "outputs": [
    {
     "data": {
      "text/html": [
       "<div>\n",
       "<style scoped>\n",
       "    .dataframe tbody tr th:only-of-type {\n",
       "        vertical-align: middle;\n",
       "    }\n",
       "\n",
       "    .dataframe tbody tr th {\n",
       "        vertical-align: top;\n",
       "    }\n",
       "\n",
       "    .dataframe thead th {\n",
       "        text-align: right;\n",
       "    }\n",
       "</style>\n",
       "<table border=\"1\" class=\"dataframe\">\n",
       "  <thead>\n",
       "    <tr style=\"text-align: right;\">\n",
       "      <th></th>\n",
       "      <th>id</th>\n",
       "      <th>text</th>\n",
       "      <th>label</th>\n",
       "      <th>embeddings</th>\n",
       "    </tr>\n",
       "  </thead>\n",
       "  <tbody>\n",
       "    <tr>\n",
       "      <th>0</th>\n",
       "      <td>1357999284721525</td>\n",
       "      <td>4 000 6 000 zł za spisanie i zamknięcie 1 umo...</td>\n",
       "      <td>NaN</td>\n",
       "      <td>[-0.7777841, -0.26344857, 0.68107945, 1.984628...</td>\n",
       "    </tr>\n",
       "    <tr>\n",
       "      <th>1</th>\n",
       "      <td>1512648315923287</td>\n",
       "      <td>warszawa potrzebuję hostessy lub hosta 30 11 0...</td>\n",
       "      <td>NaN</td>\n",
       "      <td>[-0.8700619, -0.41925764, 0.82610565, 2.029324...</td>\n",
       "    </tr>\n",
       "    <tr>\n",
       "      <th>2</th>\n",
       "      <td>1512730425915076</td>\n",
       "      <td>praca od jutra zatrudnię pełnoletnie osoby do ...</td>\n",
       "      <td>NaN</td>\n",
       "      <td>[-1.3931414, -0.3115666, 0.7041424, 1.5579505,...</td>\n",
       "    </tr>\n",
       "    <tr>\n",
       "      <th>3</th>\n",
       "      <td>1512510969270355</td>\n",
       "      <td>w związku z dynamicznie rozwijającym się zespo...</td>\n",
       "      <td>NaN</td>\n",
       "      <td>[-0.7349925, -0.98008686, 0.6741656, 0.9993763...</td>\n",
       "    </tr>\n",
       "    <tr>\n",
       "      <th>4</th>\n",
       "      <td>1505264493328336</td>\n",
       "      <td>przy komputerze umowa wynagrodzenie co miesiąc...</td>\n",
       "      <td>NaN</td>\n",
       "      <td>[-0.6780882, -0.75793606, 0.411735, 0.90742075...</td>\n",
       "    </tr>\n",
       "  </tbody>\n",
       "</table>\n",
       "</div>"
      ],
      "text/plain": [
       "                 id                                               text  label   \n",
       "0  1357999284721525   4 000 6 000 zł za spisanie i zamknięcie 1 umo...    NaN  \\\n",
       "1  1512648315923287  warszawa potrzebuję hostessy lub hosta 30 11 0...    NaN   \n",
       "2  1512730425915076  praca od jutra zatrudnię pełnoletnie osoby do ...    NaN   \n",
       "3  1512510969270355  w związku z dynamicznie rozwijającym się zespo...    NaN   \n",
       "4  1505264493328336  przy komputerze umowa wynagrodzenie co miesiąc...    NaN   \n",
       "\n",
       "                                          embeddings  \n",
       "0  [-0.7777841, -0.26344857, 0.68107945, 1.984628...  \n",
       "1  [-0.8700619, -0.41925764, 0.82610565, 2.029324...  \n",
       "2  [-1.3931414, -0.3115666, 0.7041424, 1.5579505,...  \n",
       "3  [-0.7349925, -0.98008686, 0.6741656, 0.9993763...  \n",
       "4  [-0.6780882, -0.75793606, 0.411735, 0.90742075...  "
      ]
     },
     "execution_count": 29,
     "metadata": {},
     "output_type": "execute_result"
    }
   ],
   "source": [
    "df.head()"
   ]
  },
  {
   "cell_type": "code",
   "execution_count": 30,
   "metadata": {},
   "outputs": [
    {
     "data": {
      "text/plain": [
       "(768,)"
      ]
     },
     "execution_count": 30,
     "metadata": {},
     "output_type": "execute_result"
    }
   ],
   "source": [
    "df['embeddings'][0].shape"
   ]
  },
  {
   "cell_type": "code",
   "execution_count": 31,
   "metadata": {},
   "outputs": [],
   "source": [
    "df.to_csv('../data/all_data_polbert_embeddings.csv', index=False)\n",
    "with open('../data/all_data_polbert_embeddings.json', 'w', encoding='utf-8') as f:\n",
    "  df.to_json(f, force_ascii=False, orient='records')"
   ]
  }
 ],
 "metadata": {
  "kernelspec": {
   "display_name": "venv",
   "language": "python",
   "name": "python3"
  },
  "language_info": {
   "codemirror_mode": {
    "name": "ipython",
    "version": 3
   },
   "file_extension": ".py",
   "mimetype": "text/x-python",
   "name": "python",
   "nbconvert_exporter": "python",
   "pygments_lexer": "ipython3",
   "version": "3.9.6"
  },
  "orig_nbformat": 4
 },
 "nbformat": 4,
 "nbformat_minor": 2
}
