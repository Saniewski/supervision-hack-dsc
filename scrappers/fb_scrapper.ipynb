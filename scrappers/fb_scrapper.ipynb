{
 "cells": [
  {
   "cell_type": "code",
   "execution_count": 1,
   "metadata": {},
   "outputs": [],
   "source": [
    "import pandas as pd\n",
    "from facebook_scraper import get_posts\n",
    "from tqdm import tqdm"
   ]
  },
  {
   "cell_type": "code",
   "execution_count": 2,
   "metadata": {},
   "outputs": [
    {
     "data": {
      "text/plain": "group_name    42\ndtype: int64"
     },
     "execution_count": 2,
     "metadata": {},
     "output_type": "execute_result"
    }
   ],
   "source": [
    "df_fb_groups = pd.read_csv('../data/facebook_job_groups.csv')\n",
    "df_fb_groups.count()"
   ]
  },
  {
   "cell_type": "code",
   "execution_count": 3,
   "metadata": {},
   "outputs": [
    {
     "name": "stderr",
     "output_type": "stream",
     "text": [
      "  5%|▍         | 2/42 [00:00<00:13,  2.99it/s]/Users/paul/workspace/pejot/supervision-hack-dsc/venv/lib/python3.9/site-packages/facebook_scraper/facebook_scraper.py:855: UserWarning: Facebook language detected as pl_PL - for best results, set to en_US\n",
      "  warnings.warn(\n",
      "100%|██████████| 42/42 [07:03<00:00, 10.09s/it]\n"
     ]
    }
   ],
   "source": [
    "posts = []\n",
    "with tqdm(total=len(df_fb_groups)) as pbar:\n",
    "  for group in df_fb_groups['group_name']:\n",
    "    try:\n",
    "      for post in get_posts(group):\n",
    "        posts.append(post)\n",
    "    except:\n",
    "      print(f'Error in group: {group}')\n",
    "    pbar.update(1)"
   ]
  },
  {
   "cell_type": "code",
   "execution_count": 4,
   "metadata": {},
   "outputs": [],
   "source": [
    "df_posts = pd.DataFrame(posts)\n",
    "df_posts.to_csv('../data/facebook_job_posts.csv', index=False)\n",
    "with open('../data/facebook_job_posts.json', 'w', encoding='utf-8') as f:\n",
    "  df_posts.to_json(f, force_ascii=False, orient='records')"
   ]
  }
 ],
 "metadata": {
  "kernelspec": {
   "display_name": "venv",
   "language": "python",
   "name": "python3"
  },
  "language_info": {
   "codemirror_mode": {
    "name": "ipython",
    "version": 3
   },
   "file_extension": ".py",
   "mimetype": "text/x-python",
   "name": "python",
   "nbconvert_exporter": "python",
   "pygments_lexer": "ipython3",
   "version": "3.9.6"
  },
  "orig_nbformat": 4
 },
 "nbformat": 4,
 "nbformat_minor": 2
}
