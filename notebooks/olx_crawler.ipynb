{
 "cells": [
  {
   "cell_type": "code",
   "execution_count": 1,
   "metadata": {},
   "outputs": [
    {
     "name": "stdout",
     "output_type": "stream",
     "text": [
      "['/praca/sales-executive/warszawa/17649277']\n"
     ]
    }
   ],
   "source": [
    "from selenium import webdriver\n",
    "from lxml import html\n",
    "from bs4 import BeautifulSoup\n",
    "\n",
    "links = []\n",
    "for i in range(26):\n",
    "    driver = webdriver.Chrome()\n",
    "    driver.get(\"https://www.olx.pl/praca/?page={}&search%5Bfilter_enum_remote_work_possibility%5D%5B0%5D=1\".format(i))\n",
    "    text = driver.page_source.encode('utf-8')\n",
    "    driver.close()\n",
    "    tree = html.fromstring(text)\n",
    "    soup = BeautifulSoup(text)\n",
    "\n",
    "    divs = soup.find_all(\"div\", {\"class\": \"css-1sw7q4x\"})\n",
    "\n",
    "    for div in divs:\n",
    "        id = div.get('id')\n",
    "        if id is not None:\n",
    "            links.append(tree.xpath('//*[@id=\"{}\"]/a/@href'.format(id))[0])\n",
    "\n",
    "with open('../data/olx_remote_work.txt', 'w') as f:\n",
    "    for link in links:\n",
    "        f.write(link + '\\n')"
   ]
  },
  {
   "cell_type": "code",
   "execution_count": null,
   "metadata": {},
   "outputs": [],
   "source": [
    "/html/body/div[2]/div/div[2]/div[2]/div[4]/div[1]/h1/a\n",
    "/html/body/div[2]/div/div[2]/div[2]/div[4]/div[2]/h1/a\n",
    "/html/body/div[2]/div/div[2]/div[2]/div[4]/div[18]/h1/a"
   ]
  },
  {
   "cell_type": "code",
   "execution_count": 9,
   "metadata": {},
   "outputs": [
    {
     "ename": "KeyError",
     "evalue": "'j'",
     "output_type": "error",
     "traceback": [
      "\u001b[1;31m---------------------------------------------------------------------------\u001b[0m",
      "\u001b[1;31mKeyError\u001b[0m                                  Traceback (most recent call last)",
      "Cell \u001b[1;32mIn[9], line 16\u001b[0m\n\u001b[0;32m     14\u001b[0m tree \u001b[38;5;241m=\u001b[39m html\u001b[38;5;241m.\u001b[39mfromstring(text)\n\u001b[0;32m     15\u001b[0m \u001b[38;5;28;01mfor\u001b[39;00m j \u001b[38;5;129;01min\u001b[39;00m \u001b[38;5;28mrange\u001b[39m(\u001b[38;5;241m1\u001b[39m,\u001b[38;5;241m20\u001b[39m):\n\u001b[1;32m---> 16\u001b[0m     \u001b[38;5;28;01mif\u001b[39;00m \u001b[38;5;28mlen\u001b[39m(tree\u001b[38;5;241m.\u001b[39mxpath(\u001b[38;5;124;43m'\u001b[39;49m\u001b[38;5;124;43m/html/body/div[2]/div/div[2]/div[2]/div[4]/div[\u001b[39;49m\u001b[38;5;132;43;01m{j}\u001b[39;49;00m\u001b[38;5;124;43m]/h1/a/@href\u001b[39;49m\u001b[38;5;124;43m'\u001b[39;49m\u001b[38;5;241;43m.\u001b[39;49m\u001b[43mformat\u001b[49m\u001b[43m(\u001b[49m\u001b[43mj\u001b[49m\u001b[43m)\u001b[49m)) \u001b[38;5;241m>\u001b[39m \u001b[38;5;241m0\u001b[39m:\n\u001b[0;32m     17\u001b[0m         \u001b[38;5;28mprint\u001b[39m(j, tree\u001b[38;5;241m.\u001b[39mxpath(\u001b[38;5;124m'\u001b[39m\u001b[38;5;124m/html/body/div[2]/div/div[2]/div[2]/div[4]/div[\u001b[39m\u001b[38;5;132;01m{j}\u001b[39;00m\u001b[38;5;124m]/h1/a/@href\u001b[39m\u001b[38;5;124m'\u001b[39m\u001b[38;5;241m.\u001b[39mformat(j)))\n\u001b[0;32m     18\u001b[0m         links\u001b[38;5;241m.\u001b[39mappend(tree\u001b[38;5;241m.\u001b[39mxpath(\u001b[38;5;124m'\u001b[39m\u001b[38;5;124m/html/body/div[2]/div/div[2]/div[2]/div[4]/div[\u001b[39m\u001b[38;5;132;01m{j}\u001b[39;00m\u001b[38;5;124m]/h1/a/@href\u001b[39m\u001b[38;5;124m'\u001b[39m\u001b[38;5;241m.\u001b[39mformat(j))[\u001b[38;5;241m0\u001b[39m])\n",
      "\u001b[1;31mKeyError\u001b[0m: 'j'"
     ]
    }
   ],
   "source": [
    "from selenium import webdriver\n",
    "from lxml import html\n",
    "from bs4 import BeautifulSoup\n",
    "import requests\n",
    "\n",
    "# driver = webdriver.Chrome()\n",
    "\n",
    "links = []\n",
    "for i in range(26):\n",
    "    text = requests.get(\"https://www.infopraca.pl/praca?pg={}\".format(i)).text\n",
    "    tree = html.fromstring(text)\n",
    "    for j in range(1,20):\n",
    "        if len(tree.xpath('/html/body/div[2]/div/div[2]/div[2]/div[4]/div[{j}]/h1/a/@href'.format(j))) > 0:\n",
    "            print(j, tree.xpath('/html/body/div[2]/div/div[2]/div[2]/div[4]/div[{j}]/h1/a/@href'.format(j)))\n",
    "            links.append(tree.xpath('/html/body/div[2]/div/div[2]/div[2]/div[4]/div[{j}]/h1/a/@href'.format(j))[0])\n",
    "    break\n",
    "print(links)\n",
    "\n",
    "\n",
    "# with open('../data/olx_remote_work.txt', 'w') as f:\n",
    "#     for link in links:\n",
    "#         f.write(link + '\\n')\n"
   ]
  }
 ],
 "metadata": {
  "kernelspec": {
   "display_name": "data_eng",
   "language": "python",
   "name": "python3"
  },
  "language_info": {
   "codemirror_mode": {
    "name": "ipython",
    "version": 3
   },
   "file_extension": ".py",
   "mimetype": "text/x-python",
   "name": "python",
   "nbconvert_exporter": "python",
   "pygments_lexer": "ipython3",
   "version": "3.9.16"
  },
  "orig_nbformat": 4
 },
 "nbformat": 4,
 "nbformat_minor": 2
}
