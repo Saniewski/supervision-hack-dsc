{
 "cells": [
  {
   "cell_type": "code",
   "execution_count": null,
   "metadata": {},
   "outputs": [],
   "source": [
    "from selenium import webdriver\n",
    "from lxml import html\n",
    "from bs4 import BeautifulSoup\n",
    "\n",
    "links = []\n",
    "for i in range(26):\n",
    "    driver = webdriver.Chrome()\n",
    "    driver.get(\"https://www.olx.pl/praca/?page={}\".format(i))\n",
    "    text = driver.page_source.encode('utf-8')\n",
    "    driver.close()\n",
    "    tree = html.fromstring(text)\n",
    "    soup = BeautifulSoup(text)\n",
    "\n",
    "    divs = soup.find_all(\"div\", {\"class\": \"css-1sw7q4x\"})\n",
    "\n",
    "    for div in divs:\n",
    "        id = div.get('id')\n",
    "        if id is not None:\n",
    "            links.append(tree.xpath('//*[@id=\"{}\"]/a/@href'.format(id))[0])\n",
    "\n",
    "with open('olx.txt', 'w') as f:\n",
    "    for link in links:\n",
    "        f.write(link + '\\n')"
   ]
  }
 ],
 "metadata": {
  "kernelspec": {
   "display_name": "data_eng",
   "language": "python",
   "name": "python3"
  },
  "language_info": {
   "codemirror_mode": {
    "name": "ipython",
    "version": 3
   },
   "file_extension": ".py",
   "mimetype": "text/x-python",
   "name": "python",
   "nbconvert_exporter": "python",
   "pygments_lexer": "ipython3",
   "version": "3.9.16"
  },
  "orig_nbformat": 4
 },
 "nbformat": 4,
 "nbformat_minor": 2
}
