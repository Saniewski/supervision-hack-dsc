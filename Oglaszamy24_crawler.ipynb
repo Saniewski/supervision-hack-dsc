{
 "cells": [
  {
   "cell_type": "code",
   "execution_count": 12,
   "metadata": {},
   "outputs": [
    {
     "name": "stderr",
     "output_type": "stream",
     "text": [
      "100%|██████████| 81/81 [00:20<00:00,  4.02it/s]\n",
      "100%|██████████| 1548/1548 [00:00<00:00, 154933.13it/s]\n"
     ]
    }
   ],
   "source": [
    "### BLibraries\n",
    "from selenium import webdriver\n",
    "from lxml import html\n",
    "from bs4 import BeautifulSoup\n",
    "import requests\n",
    "from tqdm import tqdm\n",
    "\n",
    "### URL adress\n",
    "url = 'http://www.oglaszamy24.pl/ogloszenia/praca/oferty-pracy/?std=1&results='\n",
    "\n",
    "### Links list\n",
    "links_list = []\n",
    "links_list_final = []\n",
    "\n",
    "### Loop through the page number\n",
    "for i in tqdm(range(81)):\n",
    "    ### Download html code from site\n",
    "    response = requests.get(url+str(i+1))\n",
    "    soup = BeautifulSoup(response.content, 'html.parser')\n",
    "\n",
    "    ### Founding evry single href with calass 'o_title'\n",
    "    links = soup.find_all('a', class_='o_title')\n",
    "    links_list = links_list + links\n",
    "\n",
    "for i in tqdm(links_list):\n",
    "    links_list_final.append(i['href'])\n",
    "               \n",
    "\n",
    "\n"
   ]
  },
  {
   "cell_type": "code",
   "execution_count": 14,
   "metadata": {},
   "outputs": [
    {
     "data": {
      "text/plain": [
       "'http://slupsk.oglaszamy24.pl/ogloszenie/956040041/slupsk-Ksiazeczka-sanepidowska-i-orzeczenie-100zl-medycyna-pracy.html'"
      ]
     },
     "execution_count": 14,
     "metadata": {},
     "output_type": "execute_result"
    }
   ],
   "source": [
    "links_list_final[20]"
   ]
  }
 ],
 "metadata": {
  "kernelspec": {
   "display_name": "Python 3",
   "language": "python",
   "name": "python3"
  },
  "language_info": {
   "codemirror_mode": {
    "name": "ipython",
    "version": 3
   },
   "file_extension": ".py",
   "mimetype": "text/x-python",
   "name": "python",
   "nbconvert_exporter": "python",
   "pygments_lexer": "ipython3",
   "version": "3.10.6"
  },
  "orig_nbformat": 4
 },
 "nbformat": 4,
 "nbformat_minor": 2
}
